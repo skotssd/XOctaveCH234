{
 "cells": [
  {
   "cell_type": "code",
   "execution_count": 1,
   "id": "d5c7e0d1-b3ab-4823-a67f-fa1ecf138b0b",
   "metadata": {},
   "outputs": [],
   "source": [
    "% some housekeeping stuff\n",
    "%register_graphics_toolkit (\"notebook\");\n",
    "register_graphics_toolkit (\"plotly\");\n",
    "clear\n",
    "format short e\n",
    "% end of housekeeping"
   ]
  },
  {
   "cell_type": "markdown",
   "id": "5cba0ed0-e707-492b-9048-bdf9cc73288e",
   "metadata": {},
   "source": [
    "# Let's calculate the pH of the Ocean  \n",
    "Water in equillibrium concentration is $\\mathrm{P_{CO_2} = 10^{-3.5} atm}$ and with CaCO<sub>3(s)</sub> and we know expected pH is approximately 8. $\\mathrm{[Ca^{2+}] \\approx 1 mN}$.  "
   ]
  },
  {
   "cell_type": "markdown",
   "id": "3d44ee3c-e867-4561-89ff-478250c3a8d5",
   "metadata": {},
   "source": [
    "Species: $\\mathrm{H^+, OH^-, CO_3^{2-}, HCO_3^-, Ca^{2+}, H_2CO_3}$"
   ]
  },
  {
   "cell_type": "markdown",
   "id": "f72424fd-78cc-4b73-91dc-17af2c06b23d",
   "metadata": {},
   "source": [
    "Charge balance  \n",
    "$\\mathrm{2[Ca^{2+}] + [H^+] = [OH^-] + [HCO_3^-] + 2[CO_3^{2-}]}$  \n",
    "anything negligble?  \n",
    "if pH = 8  \n",
    "$\\mathrm{[OH^-] = 10^{-6} [Ca^{2+} \\approx 10^{-3}]}$  \n",
    "$\\mathrm{2[Ca^{2+}] = [HCO_3^-]}$"
   ]
  },
  {
   "cell_type": "markdown",
   "id": "2ce893aa-4532-4cd1-b385-9ec9e6b9a888",
   "metadata": {},
   "source": [
    "Kw, Ka<sub>1</sub>, Ka<sub>2</sub>, Ksp, K<sub>H</sub> &nbsp;&nbsp;&nbsp;rearrange to solve for $\\mathrm{[H^+]}$  \n",
    "$\\mathrm{Kw = [H^+][OH^-]}$ &nbsp;&nbsp;&nbsp;&nbsp;&nbsp;&nbsp; $\\mathrm{P_{CO_2} = 10^{-3.5} atm}$"
   ]
  },
  {
   "cell_type": "markdown",
   "id": "f2bdbf70-b78b-4f6c-a621-0c256ce7b8c7",
   "metadata": {},
   "source": [
    "$\\mathrm{[HCO_3^-]}$ side:  \n",
    "$\\mathrm{Ka_1 = \\frac{[H^+][HCO_3^-]}{[H_2CO_3]}}$  \n",
    "rearrange:  \n",
    "$\\mathrm{[HCO_3^-] = \\frac{Ka_1[H_2CO_3]}{[H^+]}}$  \n",
    "$\\mathrm{K_H = \\frac{[H_2CO_3]}{P_{CO_2}}}$  \n",
    "$\\mathrm{[H_2CO_3] = K_H * {P_{CO_2}}}$  \n",
    "sub in for $\\mathrm{[H_2CO_3]}$  \n",
    "$\\mathrm{[HCO_3^-] = \\frac{Ka_1K_HP_{CO_2}}{[H^+]}}$"
   ]
  },
  {
   "cell_type": "markdown",
   "id": "3abae0d2-4430-4b8d-ae76-57f87393b50b",
   "metadata": {},
   "source": [
    "$\\mathrm{[Ca^{2+}]}$ side:  \n",
    "$\\mathrm{Ksp = [Ca^{2+}][CO_3^{2-}]}$  \n",
    "$\\mathrm{[Ca^{2+}] = \\frac{Ksp}{[CO_3^{2-}]}}$  \n",
    "solve $f\\mathrm{[CO_3^{2-}]}$ for Ka<sub>2</sub>  \n",
    "$\\mathrm{Ka_2 = \\frac{[H^+][CO_3^{2-}]}{[HCO_3^-]}}$  \n",
    "$\\mathrm{[CO_3^{2-}] = \\frac{Ka_2[HCO_3^-]}{[H^+]}}$  \n",
    "$\\mathrm{[HCO_3^-] = \\frac{Ka_1K_HP_{CO_2}}{[H^+]}}$  \n",
    "sub in $\\mathrm{[CO_3^{2-}] = \\frac{Ka_1Ka_2K_HP_{CO_2}}{[H^+]^2}}$"
   ]
  },
  {
   "cell_type": "markdown",
   "id": "d1969b2b-c3be-4b61-a8b8-c3c83693f802",
   "metadata": {},
   "source": [
    "sub in for $\\mathrm{[Ca^{2+}]}$ expression  \n",
    "$\\mathrm{[Ca^{2+}] = \\frac{Ksp[H^+]^2}{Ka_1Ka_2K_HP_{CO_2}}}$"
   ]
  },
  {
   "cell_type": "markdown",
   "id": "c306dabd-5177-4366-90d0-1939a9ec796e",
   "metadata": {},
   "source": [
    "$\\mathrm{2[Ca^{2+}] = [HCO_3^-]}$ &nbsp;&nbsp;&nbsp;&nbsp; put both expressions in  \n",
    "$\\mathrm{2(\\frac{Ksp[H^+]^2}{Ka_1Ka_2K_HP_{CO_2}}) = \\frac{Ka_1K_HP_{CO_2}}{[H^+]}}$  \n",
    "there is one equation and one unknown!  \n",
    "$\\mathrm{[H^+]^3 = \\frac{Ka_1^2K_H^2P_{CO_2}^2Ka_2}{2*Ksp}}$  \n",
    "$\\mathrm{[H^+] = \\sqrt[3]{\\frac{(10^{-6.3})^2(10^{-1.5})^2(10^{-3.5})^210^{-10.3}}{10^{0.3}10^{-8.5}}}}$  \n",
    "&nbsp;&nbsp;&nbsp;&nbsp;&nbsp;&nbsp;&nbsp;&nbsp;&nbsp;&nbsp;&nbsp;&nbsp;&nbsp;$\\sqrt[3]{10^{-24.701}} = 10^{-24.701/3} = 10^{-8.24}$"
   ]
  },
  {
   "cell_type": "markdown",
   "id": "ca8e892e-3202-4de3-9185-6d6fdd26a9b7",
   "metadata": {},
   "source": [
    "pH = 8.2"
   ]
  }
 ],
 "metadata": {
  "kernelspec": {
   "display_name": "Octave (xoctave)",
   "language": "Octave",
   "name": "xoctave"
  },
  "language_info": {
   "codemirror_mode": "octave",
   "file_extension": ".m",
   "mimetype": "text/x-octave",
   "name": "Octave",
   "nbconvert_exporter": "",
   "pygments_lexer": "octave",
   "version": "7.3.0"
  }
 },
 "nbformat": 4,
 "nbformat_minor": 5
}
