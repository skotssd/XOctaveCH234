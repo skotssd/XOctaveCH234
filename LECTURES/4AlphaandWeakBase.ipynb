{
 "cells": [
  {
   "cell_type": "code",
   "execution_count": 53,
   "id": "b7485edf-9a11-419b-93f0-c585a9f09498",
   "metadata": {},
   "outputs": [],
   "source": [
    "% some housekeeping stuff\n",
    "%register_graphics_toolkit (\"notebook\");\n",
    "register_graphics_toolkit (\"plotly\");\n",
    "clear\n",
    "format short e\n",
    "% end of housekeeping"
   ]
  },
  {
   "cell_type": "markdown",
   "id": "c4641733-0daa-498a-8922-3c0db47e4c94",
   "metadata": {},
   "source": [
    "# Weak Acid Speciciation  \n",
    "$\\propto$ is the fraction of a species  \n",
    "$\\mathrm{\\propto_{A-} = \\frac{Ka}{Ka + [H^+]}}$  \n",
    "  \n",
    "$\\mathrm{\\propto_{HA} = \\frac{[H^+]}{Ka + [H^+]}}$  "
   ]
  },
  {
   "cell_type": "code",
   "execution_count": 54,
   "id": "bcc7b24b-ea51-4c75-8275-f227e335d4ac",
   "metadata": {},
   "outputs": [
    {
     "name": "stdin",
     "output_type": "stream",
     "text": [
      "Enter pKa1 value:  5\n"
     ]
    },
    {
     "data": {
      "image/png": "[encoded data removed]"
     },
     "metadata": {
      "image/png": {
       "height": 420,
       "width": 560
      }
     },
     "output_type": "display_data"
    }
   ],
   "source": [
    "pKa = input(\"Enter pKa1 value: \"); Ka=10^-pKa;\n",
    "pH=2:0.2:12; H=10.^-pH;\n",
    "alphaHL=H./(Ka+H);\n",
    "alphaL=Ka./(Ka+H);\n",
    "plot(pH,alphaHL,'linewidth',2,pH,alphaL,\"linewidth\", 2)\n",
    "set(gca,'linewidth',2,'fontsize',12)\n",
    "xlabel('pH')\n",
    "ylabel('alpha')\n",
    "legend('HA','A^-')"
   ]
  },
  {
   "cell_type": "markdown",
   "id": "42e8a7cb-bd77-4457-a6d3-bc49b7bff0a3",
   "metadata": {},
   "source": [
    "# Weak Base  \n",
    "$\\mathrm{\\propto_B = \\frac{[OH^-]}{[OH^-] + Kb}}$  \n",
    "$\\mathrm{\\propto_B = \\frac{Kb}{[OH^-] + Kb}}$"
   ]
  },
  {
   "cell_type": "markdown",
   "id": "94f6f79e-1379-4c96-95b2-6450c61755ab",
   "metadata": {},
   "source": [
    "**pH of 0.01 M NaAc**  \n",
    "$\\mathrm{NaAc \\rightarrow Na^+ + Ac^-}$  \n",
    "$\\mathrm{Ac^- + H_2O = HAc + OH^-}$&nbsp;&nbsp;Kb  \n",
    "species: Na<sup>+</sup>, Ac<sup>-</sup>, HAc, H<sup>+</sup>, OH<sup>-</sup>  \n",
    "charge balance  \n",
    "$\\mathrm{[H^+] + [Na^+] = [OH^-] + [Ac^-]}$  \n",
    "expected pH: basic  \n",
    "anything negligble: [H<sup>+</sup>]  \n",
    "$\\mathrm{[Na^+] = [OH^-] + [Ac^-]}$  \n",
    "$\\mathrm{Na_T = [OH^-] + [Ac^-]}$  \n",
    "$\\mathrm{Na_T = [OH^-] + \\frac{[OH^-]B_T}{[OH^-]+Kb}}$  \n",
    "$\\mathrm{Na_T[OH^-] + Na_T Kb = [OH^-]^2 + Kb[OH^-] + [OH^-]B_T}$"
   ]
  },
  {
   "cell_type": "code",
   "execution_count": 55,
   "id": "a86968fd-a6b6-452c-9338-83236380e1e2",
   "metadata": {},
   "outputs": [
    {
     "data": {
      "text/plain": [
       "NaT = 1.0000e-02\n"
      ]
     },
     "metadata": {},
     "output_type": "display_data"
    },
    {
     "data": {
      "text/plain": [
       "t = 2.3711e-06\n"
      ]
     },
     "metadata": {},
     "output_type": "display_data"
    },
    {
     "data": {
      "text/plain": [
       "pH = 5.6251e+00\n"
      ]
     },
     "metadata": {},
     "output_type": "display_data"
    },
    {
     "data": {
      "text/plain": [
       "pOH = 8.3749e+00\n"
      ]
     },
     "metadata": {},
     "output_type": "display_data"
    }
   ],
   "source": [
    "% insert the variables and values\n",
    "Kb = 10^-9.25; BT = 0.01; NaT = 0.01  \n",
    "\n",
    "% type out the quadratic constants (a, b and c)\n",
    "\n",
    "a=1; b=Kb + BT - NaT; c=(-NaT)*Kb;\n",
    "\n",
    "% solve it. you do not need to change below this line\n",
    "\n",
    "t=roots([a b c]); %finds the roots\n",
    "t=t(imag(t)==0); %sets any imaginary roots to zero\n",
    "% display the positive real root\n",
    "\n",
    "t=t(t>0)\n",
    "\n",
    "% take minus log in case that might be useful (pH for example)\n",
    "\n",
    "pH=-log10(t)\n",
    "\n",
    "% or this is the pOH\n",
    "\n",
    "pOH=14-pH"
   ]
  },
  {
   "cell_type": "markdown",
   "id": "ec2cb327-c161-4c39-aacb-b30030d9b6fe",
   "metadata": {},
   "source": [
    "**pH of 0.01 M NH<sub>3</sub>**  \n",
    "pKb = 4.75  \n",
    "reactions: $\\mathrm{NH_3 + H_2O = NH_4^+ + OH^-}$  \n",
    "&nbsp;&nbsp;&nbsp;&nbsp;&nbsp;&nbsp;&nbsp;&nbsp;&nbsp;&nbsp;&nbsp;&nbsp;&nbsp;&nbsp;&nbsp;&nbsp;$\\mathrm{H_2O = H^+ + OH^-}$  \n",
    "species: NH</sub>3</sub>, H<sup>+</sup>, OH<sup>-</sup>, NH</sub>4</sub><sup>+</sup>  \n",
    "$\\mathrm{[H^+] + [NH_4^+] = [OH^-]}$  \n",
    "expected pH: basic  \n",
    "Anything negligible: $\\mathrm{[H^+]}$  \n",
    "$\\mathrm{[NH_4^+] = [OH^-]}$  \n",
    "$\\mathrm{\\frac{Kb NH_{3T}}{[OH^-] + Kb} = [OH^-]}$\n",
    "$\\mathrm{KbNH_{3T} = [OH^-]^2 + Kb[OH^-]}$"
   ]
  },
  {
   "cell_type": "code",
   "execution_count": 57,
   "id": "b8ada929-f265-4b25-bf7c-3457acc7d5c1",
   "metadata": {},
   "outputs": [
    {
     "data": {
      "text/plain": [
       "t = 4.1290e-04\n"
      ]
     },
     "metadata": {},
     "output_type": "display_data"
    },
    {
     "data": {
      "text/plain": [
       "pH = 3.3842e+00\n"
      ]
     },
     "metadata": {},
     "output_type": "display_data"
    },
    {
     "data": {
      "text/plain": [
       "pOH = 1.0616e+01\n"
      ]
     },
     "metadata": {},
     "output_type": "display_data"
    }
   ],
   "source": [
    "% insert the variables and values\n",
    "Kb = 10^-4.75; NH3T = 0.01;\n",
    "\n",
    "% type out the quadratic constants (a, b and c)\n",
    "\n",
    "a=1; b=Kb; c=-Kb*NH3T;\n",
    "\n",
    "% solve it. you do not need to change below this line\n",
    "\n",
    "t=roots([a b c]); %finds the roots\n",
    "t=t(imag(t)==0); %sets any imaginary roots to zero\n",
    "% display the positive real root\n",
    "\n",
    "t=t(t>0)\n",
    "\n",
    "% take minus log in case that might be useful (pH for example)\n",
    "\n",
    "pH=-log10(t)\n",
    "\n",
    "% or this is the pOH\n",
    "\n",
    "pOH=14-pH"
   ]
  },
  {
   "cell_type": "code",
   "execution_count": null,
   "id": "52246b98-17ab-4cf5-8b64-1e5f9eb24f63",
   "metadata": {},
   "outputs": [],
   "source": []
  }
 ],
 "metadata": {
  "kernelspec": {
   "display_name": "Octave (xoctave)",
   "language": "Octave",
   "name": "xoctave"
  },
  "language_info": {
   "codemirror_mode": "octave",
   "file_extension": ".m",
   "mimetype": "text/x-octave",
   "name": "Octave",
   "nbconvert_exporter": "",
   "pygments_lexer": "octave",
   "version": "7.3.0"
  }
 },
 "nbformat": 4,
 "nbformat_minor": 5
}
