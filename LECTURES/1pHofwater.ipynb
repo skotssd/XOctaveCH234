{
 "cells": [
  {
   "cell_type": "code",
   "execution_count": 40,
   "id": "ee3de202-b5ba-4dc4-aa4c-b39e5355d8ea",
   "metadata": {},
   "outputs": [],
   "source": [
    "% some housekeeping stuff\n",
    "%register_graphics_toolkit (\"notebook\");\n",
    "register_graphics_toolkit (\"plotly\");\n",
    "clear\n",
    "format short e\n",
    "% end of housekeeping"
   ]
  },
  {
   "cell_type": "markdown",
   "id": "d94c5260-c4e9-4435-9aee-8a984ce4bc75",
   "metadata": {},
   "source": [
    "# Water and pH\n",
    "\n",
    "![image of water molecule](water.png)\n",
    "\n",
    "The simplified water reaction can be written:\n",
    "\n",
    "$$\\mathrm{H_2O} \\leftrightharpoons \\mathrm{H^+} + \\mathrm{OH^-}$$\n",
    "\n",
    "with equilibrium constant $K_w$\n",
    "\n",
    "$$K_w = [\\mathrm{H^+}][\\mathrm{OH^-}]=10^{-14}$$\n"
   ]
  },
  {
   "cell_type": "markdown",
   "id": "7c4a722a-cc87-446d-b546-af77406b7ea4",
   "metadata": {
    "tags": []
   },
   "source": [
    "# General approach to equilibrium problem solving\n",
    "\n",
    "1. Write reactions\n",
    "2. Write species\n",
    "3. Write as many equations as species\n",
    "4. solve"
   ]
  },
  {
   "cell_type": "markdown",
   "id": "03ac79d2-7e56-4682-a0af-35bb9fc3d22d",
   "metadata": {},
   "source": [
    "### 1. Write Reactions\n",
    "$$\\mathrm{H_2O} = \\mathrm{H^{-1}} + \\mathrm{OH^-}$$\n",
    "### 2. Write Species  \n",
    "$$\\mathrm{OH^-, H^{-1}, H_2O}$$\n",
    "### 3. Write as many equations as species\n",
    "A. mass action (all independed K reactions)  \n",
    "    $\\mathrm{K_w} = [\\mathrm{H^+}][\\mathrm{OH^-}]$  equation 1  \n",
    "B. mass balance (recipe)  \n",
    "    $[\\mathrm{H_20}] = 55.555 \\mathrm{mol/L}$ equation 2  \n",
    "C. change balance  "
   ]
  },
  {
   "cell_type": "markdown",
   "id": "3e15aca8-713f-4ea1-9a6b-76a665988d6b",
   "metadata": {},
   "source": [
    "# pH of pure water\n",
    "1. List reactions $\\mathrm{H_2O} = \\mathrm{H^{-1}} + \\mathrm{OH^-}$\n",
    "2. List species $\\mathrm{OH^-, H^{-1}, H_2O}$\n",
    "3. write as many equations as unknowns/species\n",
    "a) $K_w = [\\mathrm{H^+}][\\mathrm{OH^-}]=10^{-14}$ equation 1\n",
    "b) $[H_2O] = 55.555 \\mathrm{mol/L}$ equation 2  \n",
    "c) change balance $\\Sigma(+) = \\Sigma(-) $   \n",
    "&nbsp; &nbsp;&nbsp; &nbsp; &nbsp; &nbsp;&nbsp; &nbsp; &nbsp; &nbsp;&nbsp; &nbsp;$[\\mathrm{H^+}] = [\\mathrm{OH^-}]$"
   ]
  },
  {
   "cell_type": "markdown",
   "id": "9d3aa38d-1824-40fa-9e2e-78edc7ff7df7",
   "metadata": {},
   "source": [
    "# Strong Acids\n",
    "Strong acids have a 100% dissociation\n",
    "$$\\mathrm{HX} \\rightarrow \\mathrm{H^+} + \\mathrm{X^-}$$  \n",
    "examples: $\\mathrm{HCl}, \\mathrm{H_2SO_4}, \\mathrm{HNO_3}$  \n",
    "Strong acid anions: $\\mathrm{Cl^-, SO_4 ^{ 2-}, NO_3 ^ -}$  \n",
    "# Strong Bases\n",
    "100% dissociation to give strong base cation and hydroxide  \n",
    "examples: $\\mathrm{NaOH, KOH, CsOH, Ca(OH)_2}$\n",
    "Strong base cations: $\\mathrm{Na^+, K^+, Li^+, Ca^{2+}, Mg^{2+}, Si^{2+}}$\n",
    "- alkali metal hydroxide ions\n",
    "- alkali earth metal hydroxide salts"
   ]
  },
  {
   "cell_type": "markdown",
   "id": "7edfdf81-8235-4df3-b94e-f5f99d204313",
   "metadata": {},
   "source": [
    "# pH of HCl 0.01 M\n",
    "$1\\mathrm{nM} = 1*10^{-9} \\mathrm{M}$  \n",
    "1nM HCl pH $\\approx$ 7 **not** 9  \n",
    "**Write reactions**   \n",
    "$\\mathrm{HCL} \\rightarrow \\mathrm{H^+} + {Cl^-}$  \n",
    "$\\mathrm{H_2O} \\leftrightharpoons \\mathrm{H^+} + \\mathrm{OH^-}$\n",
    "$K_w = 10^{-14}$  \n",
    "**Write species**\n",
    "$\\mathrm{H^+, Cl^-, OH^-, [H_2O]} = 55.5 M$  \n",
    "  \n",
    "a) Mass action  \n",
    "$\\mathrm{Kcc} = [\\mathrm{H^+}][\\mathrm{OH^-}] = 10^{14}$  \n",
    "b) Mass balance  \n",
    "$\\mathrm{Cl_T} = 0.01 \\mathrm{M}$&nbsp; &nbsp; &nbsp; &nbsp;$\\mathrm{Cl_T} = 10^-9  \\mathrm{ M}$  \n",
    "c) Change balance  \n",
    "$[\\mathrm{H^+}] = [\\mathrm{OH^-}] + [\\mathrm{Cl^-}]$  \n",
    "$[\\mathrm{H^+}] = [\\mathrm{OH^-}] + \\mathrm{Cl_T}$  \n",
    "ask yourself: expected pH? Is anything negligble?  \n",
    "$[\\mathrm{OH^-}] \\approx 0$  \n",
    "$[\\mathrm{H^+}] = \\mathrm{Cl_T}$  \n",
    "&nbsp; &nbsp;&nbsp; &nbsp; &nbsp; &nbsp;= 0.01 M  \n",
    "$\\mathrm{pH} = -\\mathrm{log}(0.01\\mathrm{M})$  \n",
    "&nbsp; &nbsp;&nbsp; &nbsp; = 2.00  \n"
   ]
  },
  {
   "cell_type": "markdown",
   "id": "8d945f00-119c-4496-acb3-b7dd6e70a837",
   "metadata": {},
   "source": [
    "# pH of 1.0 nM HCl  \n",
    "starting from change balance  \n",
    "$[\\mathrm{H^+}] = [\\mathrm{OH^-}] + [\\mathrm{Cl^-}]$  \n",
    "$[\\mathrm{H^+}] = [\\mathrm{OH^-}] + \\mathrm{Cl_T}$  \n",
    "expect pH $\\approx$ 7  \n",
    "nothing negligble  \n",
    "$[\\mathrm{H^+}] = \\frac{\\mathrm{K_T}}{[\\mathrm{H^+}]} + \\mathrm{Cl_T}$  (rearrange mass action or sub in)  \n",
    "one equation and one unknown!"
   ]
  },
  {
   "cell_type": "markdown",
   "id": "0b653935-29a9-4e15-90e8-1ffb7de5a310",
   "metadata": {},
   "source": [
    "# Roots of a quadratic equation\n",
    "\n",
    "The general form of a quadratic equation is :\n",
    "\n",
    "$ax^2 + bx+c=0$\n",
    "\n",
    "it is possible to solve for the roots (x values where y=0) using the quadratic equation.  You can also solve numerically using this script.  Just input the values for a, b and c in the code below.\n",
    "\n",
    "This might be useful for doing assignments in CH261"
   ]
  },
  {
   "cell_type": "code",
   "execution_count": 38,
   "id": "6825af18-2eaa-4274-85e9-d55a5a080b66",
   "metadata": {},
   "outputs": [
    {
     "data": {
      "text/plain": [
       "t = 1.0050e-07\n"
      ]
     },
     "metadata": {},
     "output_type": "display_data"
    },
    {
     "data": {
      "text/plain": [
       "pH = 6.9978e+00\n"
      ]
     },
     "metadata": {},
     "output_type": "display_data"
    },
    {
     "data": {
      "text/plain": [
       "pOH = 7.0022e+00\n"
      ]
     },
     "metadata": {},
     "output_type": "display_data"
    }
   ],
   "source": [
    "% insert the variables and values\n",
    "\n",
    "ClT=10^-9; Kw=10^-14;\n",
    "\n",
    "% type out the quadratic constants (a, b and c)\n",
    "\n",
    "a=1; b=-ClT; c=-Kw;\n",
    "\n",
    "% solve it. you do not need to change below this line\n",
    "\n",
    "t=roots([a b c]); %finds the roots\n",
    "t=t(imag(t)==0); %sets any imaginary roots to zero\n",
    "% display the positive real root\n",
    "\n",
    "t=t(t>0)\n",
    "\n",
    "% take minus log in case that might be useful (pH for example)\n",
    "\n",
    "pH=-log10(t)\n",
    "\n",
    "% or this is the pOH\n",
    "\n",
    "pOH=14-pH\n"
   ]
  },
  {
   "cell_type": "markdown",
   "id": "10ff3d85-5e6d-4b09-b953-d5eb13439037",
   "metadata": {},
   "source": [
    "# insert graph to show the postive real root"
   ]
  },
  {
   "cell_type": "code",
   "execution_count": 39,
   "id": "f1ec7014-3651-4bf7-b3eb-bcab8d52e9ef",
   "metadata": {},
   "outputs": [
    {
     "data": {
      "image/png": "[encoded data removed]"
     },
     "metadata": {
      "image/png": {
       "height": 420,
       "width": 560
      }
     },
     "output_type": "display_data"
    }
   ],
   "source": [
    "x=[0.01*t:t/10:t*5];\n",
    "y=a*x.^2+b.*x+c;\n",
    "\n",
    "plot(x,y,'b-','linewidth',2)\n",
    "hold on\n",
    "plot([t t],[min(y) max(y)],'r','linewidth',2)\n",
    "plot(x,zeros(size(x)),'k','linewidth',2)\n",
    "set(gca,'linewidth',2,'fontsize',14)\n",
    "xlabel('x values','fontsize',15); ylabel('y values','fontsize',15)\n",
    "%axis([min(x) max(x) min(y) max(y)])"
   ]
  },
  {
   "cell_type": "code",
   "execution_count": null,
   "id": "5f50c515-06f5-4363-91a8-1ee9af315781",
   "metadata": {},
   "outputs": [],
   "source": []
  }
 ],
 "metadata": {
  "kernelspec": {
   "display_name": "Octave (xoctave)",
   "language": "Octave",
   "name": "xoctave"
  },
  "language_info": {
   "codemirror_mode": "octave",
   "file_extension": ".m",
   "mimetype": "text/x-octave",
   "name": "Octave",
   "nbconvert_exporter": "",
   "pygments_lexer": "octave",
   "version": "7.3.0"
  }
 },
 "nbformat": 4,
 "nbformat_minor": 5
}
