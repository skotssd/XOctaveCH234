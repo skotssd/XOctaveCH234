{
 "cells": [
  {
   "cell_type": "code",
   "execution_count": 6,
   "id": "4ae561c7-ffaa-4a20-aaba-17459c0b9c6b",
   "metadata": {},
   "outputs": [],
   "source": [
    "% some housekeeping stuff\n",
    "%register_graphics_toolkit (\"notebook\");\n",
    "register_graphics_toolkit (\"plotly\");\n",
    "clear\n",
    "format short e\n",
    "% end of housekeeping"
   ]
  },
  {
   "cell_type": "markdown",
   "id": "ce47c912-f93f-4270-bd05-6bbb3a66b10d",
   "metadata": {},
   "source": [
    "# Strong Acid and Base Practice Test  \n",
    "### A. pH of..? \n",
    "**1. pure water** (7.000)  \n",
    "  \n",
    "**2. 0.001 M NaOH (11)**  \n",
    "$\\mathrm{pH = -log([H^+])}$  \n",
    "&nbsp;&nbsp;&nbsp;&nbsp;&nbsp;&nbsp;&nbsp;$\\mathrm{= -log(\\frac{[Kw]}{[OH^-]})}$  \n",
    "&nbsp;&nbsp;&nbsp;&nbsp;&nbsp;&nbsp;&nbsp;$\\mathrm{= -log(\\frac{10^{-14}}{10^{-3}})}$  \n",
    "&nbsp;&nbsp;&nbsp;&nbsp;&nbsp;&nbsp;&nbsp;$\\mathrm{= -log(10^{-11})}$  \n",
    "pH = 11  \n",
    "\n",
    "**3. 0.001 M HCl** (pH = 3)  \n",
    "\n",
    "**4. 0.001 M $\\mathrm{H_2SO_4}$ (complete dissociation)**  \n",
    "$\\mathrm{pH = -log([H^+])}$  \n",
    "&nbsp;&nbsp;&nbsp;&nbsp;&nbsp;&nbsp;&nbsp;$\\mathrm{= -log(2 x 0.001)}$  \n",
    "&nbsp;&nbsp;&nbsp;&nbsp;&nbsp;&nbsp;&nbsp;$=2.699$  \n",
    "\n",
    "**5. 15 nM $\\mathrm{Mg(OH)_2}$** (pH = 7.0649)  \n",
    "$\\mathrm{15 e-9 M}$  \n",
    "$\\mathrm{Mg(OH)_2 \\rightarrow Mg^{2+} + 2 OH^-}$  \n",
    "$\\mathrm{H_2O \\rightleftharpoons H^+ + OH^-}$  \n",
    "charge balance: $\\mathrm{[H^+] + 2[Mg^{2+}] = [OH^-]}$  \n",
    "&nbsp;&nbsp;&nbsp;&nbsp;&nbsp;&nbsp;&nbsp;&nbsp;&nbsp;&nbsp;&nbsp;&nbsp;&nbsp;&nbsp;&nbsp;&nbsp;&nbsp;&nbsp;&nbsp;&nbsp;&nbsp;&nbsp;&nbsp;&nbsp;&nbsp;&nbsp;$\\mathrm{[H^+] + 2Mg_T = \\frac{Kw}{[H^+]}}$  \n",
    "$\\mathrm{[H^+]^2 + 2Mg_T - [H^+] = Kw}$"
   ]
  },
  {
   "cell_type": "code",
   "execution_count": 8,
   "id": "8108791b-6231-48d9-8d69-2dfc76783fe6",
   "metadata": {},
   "outputs": [
    {
     "data": {
      "text/plain": [
       "t = 9.8931e-08\n"
      ]
     },
     "metadata": {},
     "output_type": "display_data"
    },
    {
     "data": {
      "text/plain": [
       "pH = 7.0047e+00\n"
      ]
     },
     "metadata": {},
     "output_type": "display_data"
    },
    {
     "data": {
      "text/plain": [
       "pOH = 6.9953e+00\n"
      ]
     },
     "metadata": {},
     "output_type": "display_data"
    }
   ],
   "source": [
    "% insert the variables and values\n",
    "\n",
    "MgT = 1.075e-9; Kw=10^-14;\n",
    "\n",
    "% type out the quadratic constants (a, b and c)\n",
    "\n",
    "a=1; b=2*MgT; c=-Kw;\n",
    "\n",
    "% solve it. you do not need to change below this line\n",
    "\n",
    "t=roots([a b c]); %finds the roots\n",
    "t=t(imag(t)==0); %sets any imaginary roots to zero\n",
    "% display the positive real root\n",
    "\n",
    "t=t(t>0)\n",
    "\n",
    "% take minus log in case that might be useful (pH for example)\n",
    "\n",
    "pH=-log10(t)\n",
    "\n",
    "% or this is the pOH\n",
    "\n",
    "pOH=14-pH"
   ]
  },
  {
   "cell_type": "markdown",
   "id": "76ec364e-e268-4080-9696-e15c75a93eee",
   "metadata": {
    "tags": []
   },
   "source": [
    "### B. mix  \n",
    "&nbsp;&nbsp;&nbsp;&nbsp;&nbsp;&nbsp;&nbsp;&nbsp;&nbsp;&nbsp;&nbsp; &nbsp; 10.00 mL 0.01 M NaOH  \n",
    "&nbsp;&nbsp;&nbsp;&nbsp;&nbsp;&nbsp;&nbsp;&nbsp;&nbsp;&nbsp;&nbsp; &nbsp; 5 mL 0.02 M HCl  \n",
    "&nbsp;&nbsp;&nbsp;&nbsp;&nbsp;&nbsp;&nbsp;&nbsp;&nbsp;&nbsp;&nbsp; &nbsp; 15 mL 0.02 M $\\mathrm{Na_2SO_4}$  \n",
    "  \n",
    "$\\mathrm{n_{OH^-} = (0.01 L)(0.01 mol/L) = 0.0001 mol}$  \n",
    "$\\mathrm{n_{H^+} = (0.004 L)(0.02 mol/L) = 0.0001 mol}$  \n",
    "$\\mathrm{[H^+] = 10^-7 = 1x10^-7 = 1e-7 = 0.00...7}$  \n",
    "$\\mathrm{[OH^-] = 10^{-7} = 1x10^{-7} = 1e-7}$  \n",
    "what other species? $\\mathrm{SO_4^{2-}, Cl^-, Na^+}$  \n",
    "$\\mathrm{[Cl^-] = \\frac{(0.005 L)(0.02mol/L)}{0.01 L + 0.005 L + 0.015 L}}$  \n",
    "&nbsp;&nbsp;&nbsp;&nbsp;&nbsp;&nbsp;&nbsp;&nbsp;&nbsp;&nbsp;&nbsp;=0.00333 mol/L  \n",
    "$\\mathrm{[Na^+] = \\frac{(0.01 mol/L * 0.01 L) + (0.02 mol/L)(2)(0.015 L)}{0.030 L}}$  \n",
    "&nbsp;&nbsp;&nbsp;&nbsp;&nbsp;&nbsp;&nbsp;&nbsp;&nbsp;&nbsp;&nbsp;=0.0233 mol/L  \n",
    "$\\mathrm{[SO_4^{2-}] = \\frac{(0.02 mol/L)(0.015 L)}{0.030}}$  \n",
    "&nbsp;&nbsp;&nbsp;&nbsp;&nbsp;&nbsp;&nbsp;&nbsp;&nbsp;&nbsp;&nbsp;&nbsp;&nbsp;=0.01 mol/L"
   ]
  },
  {
   "cell_type": "markdown",
   "id": "69863167-594e-4ddc-98b3-f7b31e27d97e",
   "metadata": {},
   "source": [
    "### C. What concentration of HNO3 will yield a solution with a pH of  \n",
    "a) 3.45&nbsp;&nbsp;&nbsp;&nbsp;&nbsp;&nbsp;&nbsp;b) 5.8&nbsp;&nbsp;&nbsp;&nbsp;&nbsp;&nbsp;&nbsp;c) 6.8  \n",
    "a) $\\mathrm{[H^+] = 10^{-pH} = [HNO_3]}$ added  \n",
    "&nbsp;&nbsp;&nbsp;&nbsp;&nbsp;&nbsp;&nbsp;&nbsp;&nbsp;&nbsp;&nbsp;&nbsp;&nbsp;$\\mathrm{= 10^{-3.45 M} = 3.548e-4 M}$  \n",
    "b) $\\mathrm{[HNO_3] added = 1.585e-6 M}$  \n",
    "c) charge balance  \n",
    "$\\mathrm{[H^+] = [NO_3^-] + [OH^-]}$  \n",
    "$\\mathrm{[H^+] = [NO_3^-] + \\frac{K_{cT}}{[H^+]}}$  \n",
    "$\\mathrm{[H^+]^2 = [NO_3^-][H^+] + Kw}$  \n",
    "&nbsp;&nbsp;&nbsp;$\\mathrm{[NO_3^-]=\\frac{[H^+]^2 - K_{cT}}{[H^+]}}$  \n",
    "&nbsp;&nbsp;&nbsp;&nbsp;&nbsp;&nbsp;&nbsp;&nbsp;&nbsp;&nbsp;&nbsp;&nbsp;&nbsp;&nbsp;&nbsp;&nbsp;$=\\frac{(10^{-6.8})^2 - 10^{-14}}{10^{-6.8}} = \\mathrm{9.539e-8 M}$"
   ]
  },
  {
   "cell_type": "code",
   "execution_count": null,
   "id": "c27b3ed3-06d8-4fcb-8864-8e7416a1202d",
   "metadata": {},
   "outputs": [],
   "source": []
  }
 ],
 "metadata": {
  "kernelspec": {
   "display_name": "Octave (xoctave)",
   "language": "Octave",
   "name": "xoctave"
  },
  "language_info": {
   "codemirror_mode": "octave",
   "file_extension": ".m",
   "mimetype": "text/x-octave",
   "name": "Octave",
   "nbconvert_exporter": "",
   "pygments_lexer": "octave",
   "version": "7.3.0"
  }
 },
 "nbformat": 4,
 "nbformat_minor": 5
}
