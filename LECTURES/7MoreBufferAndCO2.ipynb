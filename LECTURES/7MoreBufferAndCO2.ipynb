{
 "cells": [
  {
   "cell_type": "code",
   "execution_count": null,
   "id": "fbf51393-cf68-44e4-a518-5e646a6b0338",
   "metadata": {},
   "outputs": [],
   "source": [
    "% some housekeeping stuff\n",
    "%register_graphics_toolkit (\"notebook\");\n",
    "register_graphics_toolkit (\"plotly\");\n",
    "clear\n",
    "format short e\n",
    "% end of housekeeping"
   ]
  },
  {
   "cell_type": "markdown",
   "id": "0a9c55c3-ff48-438b-9940-c85698f50c1f",
   "metadata": {},
   "source": [
    "# More Buffering and CO2  \n",
    "Buffer weak acid + conjugate base OR weak base + conjugate acid  \n",
    "For example: $\\mathrm{HAC + NaAc}$  \n",
    "&nbsp;&nbsp;&nbsp;&nbsp;&nbsp;&nbsp;&nbsp;&nbsp;&nbsp;&nbsp;&nbsp;&nbsp;&nbsp;&nbsp;&nbsp;&nbsp;&nbsp;&nbsp;&nbsp;&nbsp;&nbsp;$\\mathrm{NH_3 + NH_4Cl}$  "
   ]
  },
  {
   "cell_type": "markdown",
   "id": "c034f98b-20ea-4884-8ae1-534bc730aa70",
   "metadata": {},
   "source": [
    "pKb NH<sub>3</sub> is 4.75. What is the approximate pH of NH<sub>3</sub>/NH<sub>4</sub>Cl buffer?  \n",
    "$\\approx 9.25$  \n",
    "pH of 0.01 M NaAC with 0.01 M HAc (pKa HAc = 4.75)  \n",
    "list species  \n",
    "$H^+, Na^+, HAc, Ac^-, OH^-$  \n",
    "$[H^+] + [Na^+] = [Ac^] + [OH^-]$  \n",
    "Expected pH: Acidic (4.75)  "
   ]
  },
  {
   "cell_type": "code",
   "execution_count": null,
   "id": "cd8d0d6e-7ae1-48f9-90c1-4cb0e74e33d4",
   "metadata": {},
   "outputs": [],
   "source": []
  }
 ],
 "metadata": {
  "kernelspec": {
   "display_name": "Octave (xoctave)",
   "language": "Octave",
   "name": "xoctave"
  },
  "language_info": {
   "codemirror_mode": "octave",
   "file_extension": ".m",
   "mimetype": "text/x-octave",
   "name": "Octave",
   "nbconvert_exporter": "",
   "pygments_lexer": "octave",
   "version": "7.3.0"
  }
 },
 "nbformat": 4,
 "nbformat_minor": 5
}
