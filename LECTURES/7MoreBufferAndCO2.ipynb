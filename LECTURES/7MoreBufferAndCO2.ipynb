{
 "cells": [
  {
   "cell_type": "code",
   "execution_count": 22,
   "id": "fbf51393-cf68-44e4-a518-5e646a6b0338",
   "metadata": {},
   "outputs": [],
   "source": [
    "% some housekeeping stuff\n",
    "%register_graphics_toolkit (\"notebook\");\n",
    "register_graphics_toolkit (\"plotly\");\n",
    "clear\n",
    "format short e\n",
    "% end of housekeeping"
   ]
  },
  {
   "cell_type": "markdown",
   "id": "0a9c55c3-ff48-438b-9940-c85698f50c1f",
   "metadata": {},
   "source": [
    "# More Buffering and CO2  \n",
    "Buffer weak acid + conjugate base OR weak base + conjugate acid  \n",
    "For example: $\\mathrm{HAC + NaAc}$  \n",
    "&nbsp;&nbsp;&nbsp;&nbsp;&nbsp;&nbsp;&nbsp;&nbsp;&nbsp;&nbsp;&nbsp;&nbsp;&nbsp;&nbsp;&nbsp;&nbsp;&nbsp;&nbsp;&nbsp;&nbsp;&nbsp;$\\mathrm{NH_3 + NH_4Cl}$  "
   ]
  },
  {
   "cell_type": "markdown",
   "id": "c034f98b-20ea-4884-8ae1-534bc730aa70",
   "metadata": {},
   "source": [
    "pKb NH<sub>3</sub> is 4.75. What is the approximate pH of NH<sub>3</sub>/NH<sub>4</sub>Cl buffer?  \n",
    "$\\approx 9.25$  \n",
    "pH of 0.01 M NaAC with 0.01 M HAc (pKa HAc = 4.75)  \n",
    "list species  \n",
    "$\\mathrm{H^+, Na^+, HAc, Ac^-, OH^-}$  \n",
    "$\\mathrm{[H^+] + [Na^+] = [Ac^] + [OH^-]}$  \n",
    "Expected pH: Acidic (4.75)  "
   ]
  },
  {
   "cell_type": "markdown",
   "id": "73c88cda-f0ce-49e6-92c1-98105c23f4cb",
   "metadata": {},
   "source": [
    "$\\mathrm{[H^+] + Na_T = \\frac{KaA_{CT}}{Ka + [H^+]}}$  \n",
    "$\\mathrm{Ka[H^+] + [H^+]^2 + KaNa_T + Na_T[H^+]}$  \n",
    "$\\mathrm{=KaAc_T}$"
   ]
  },
  {
   "cell_type": "code",
   "execution_count": 23,
   "id": "3d0a25b1-48d5-4e11-a226-63e524895e47",
   "metadata": {},
   "outputs": [
    {
     "data": {
      "text/plain": [
       "KaNaT = 2.0000e-02\n"
      ]
     },
     "metadata": {},
     "output_type": "display_data"
    },
    {
     "data": {
      "text/plain": [
       "c = -3.5566e-07\n"
      ]
     },
     "metadata": {},
     "output_type": "display_data"
    },
    {
     "data": {
      "text/plain": [
       "t = 3.5378e-05\n"
      ]
     },
     "metadata": {},
     "output_type": "display_data"
    },
    {
     "data": {
      "text/plain": [
       "pH = 4.4513e+00\n"
      ]
     },
     "metadata": {},
     "output_type": "display_data"
    },
    {
     "data": {
      "text/plain": [
       "pOH = 9.5487e+00\n"
      ]
     },
     "metadata": {},
     "output_type": "display_data"
    }
   ],
   "source": [
    "% insert the variables and values\n",
    "\n",
    "Ka = 10^-4.75; NaT = 0.01; KaAcT = 10^-4.75; KaNaT = 0.02\n",
    "\n",
    "% type out the quadratic constants (a, b and c)\n",
    "\n",
    "a=1; b=Ka+NaT; c=-KaAcT*KaNaT\n",
    "\n",
    "% solve it. you do not need to change below this line\n",
    "\n",
    "t=roots([a b c]); %finds the roots\n",
    "t=t(imag(t)==0); %sets any imaginary roots to zero\n",
    "% display the positive real root\n",
    "\n",
    "t=t(t>0)\n",
    "\n",
    "% take minus log in case that might be useful (pH for example)\n",
    "\n",
    "pH=-log10(t)\n",
    "\n",
    "% or this is the pOH\n",
    "\n",
    "pOH=14-pH"
   ]
  },
  {
   "cell_type": "markdown",
   "id": "c119a743-180e-4a30-828c-3170f52376b3",
   "metadata": {},
   "source": [
    "ph $\\approx$ pKa"
   ]
  },
  {
   "cell_type": "markdown",
   "id": "b88d8178-020c-4b06-a676-f794e8642185",
   "metadata": {},
   "source": [
    "Now let's show it is really a buffer! Let's add 0.001 M NaOH and add to water alone what is the pH change?   \n",
    "7 to <ins>11</ins>  \n",
    "$\\Delta$pH = 4  \n",
    "Does the electronegativity expression change?"
   ]
  },
  {
   "cell_type": "code",
   "execution_count": 24,
   "id": "5a41c06f-4237-4452-9ac0-232d62973fe7",
   "metadata": {},
   "outputs": [
    {
     "data": {
      "text/plain": [
       "c = -1.6005e-07\n"
      ]
     },
     "metadata": {},
     "output_type": "display_data"
    },
    {
     "data": {
      "text/plain": [
       "t = 1.4507e-05\n"
      ]
     },
     "metadata": {},
     "output_type": "display_data"
    },
    {
     "data": {
      "text/plain": [
       "pH = 4.8384e+00\n"
      ]
     },
     "metadata": {},
     "output_type": "display_data"
    },
    {
     "data": {
      "text/plain": [
       "pOH = 9.1616e+00\n"
      ]
     },
     "metadata": {},
     "output_type": "display_data"
    }
   ],
   "source": [
    "% insert the variables and values\n",
    "\n",
    "Ka = 10^-4.75; NaT = 0.011; AcT = 0.02;\n",
    "\n",
    "% type out the quadratic constants (a, b and c)\n",
    "\n",
    "a=1; b=Ka+NaT; c=(Ka*NaT)-(AcT*Ka)\n",
    "\n",
    "% solve it. you do not need to change below this line\n",
    "\n",
    "t=roots([a b c]); %finds the roots\n",
    "t=t(imag(t)==0); %sets any imaginary roots to zero\n",
    "% display the positive real root\n",
    "\n",
    "t=t(t>0)\n",
    "\n",
    "% take minus log in case that might be useful (pH for example)\n",
    "\n",
    "pH=-log10(t)\n",
    "\n",
    "% or this is the pOH\n",
    "\n",
    "pOH=14-pH"
   ]
  },
  {
   "cell_type": "markdown",
   "id": "d309ff54-266a-4ef9-9fc9-68115cb1803d",
   "metadata": {},
   "source": [
    "$\\Delta$pH = 0.087"
   ]
  },
  {
   "cell_type": "markdown",
   "id": "1387d49a-3b53-48ba-897a-63a0d58a68a5",
   "metadata": {},
   "source": [
    "### Multiprotic acids  \n",
    "diprotic (2H+)  \n",
    "example: Sulphuric acid, H<sub>2</sub>CO<sub>3</sub>  \n",
    "triprotic (3H+)  \n",
    "example: Citric acid, H<sub>3</sub>PO<sub>4</sub>  "
   ]
  },
  {
   "cell_type": "markdown",
   "id": "f8a72163-b112-4d48-b9f6-6b6acc7a9ac6",
   "metadata": {},
   "source": [
    "$\\mathrm{H_2A \\rightleftharpoons H^+  + HA^-}$ Ka<sub>1</sub>  \n",
    "$\\mathrm{HA^- = H^+  + A^{2-}}$ Ka<sub>2</sub>  "
   ]
  },
  {
   "cell_type": "markdown",
   "id": "1c897890-befc-4b5e-b4ca-724d3e35f775",
   "metadata": {},
   "source": [
    "$\\mathrm{H_2A = 2H^+ + A^{2-}}$  \n",
    "K = Ka<sub>1</sub> x Ka<sub>2</sub>  \n",
    "&nbsp;&nbsp;&nbsp;&nbsp;=Ba<sub>2</sub>  \n",
    "B is the overall equillibrium constant.  \n",
    "K is step-wise. \n",
    "![](morebuffergraph.png)  \n"
   ]
  },
  {
   "cell_type": "markdown",
   "id": "c7209887-9187-46fe-8d33-44af20629b67",
   "metadata": {},
   "source": [
    "$\\mathrm{H_2O = HA^- + H^+}$  \n",
    "$\\mathrm{Ka_1 = \\frac{[HA^-][H^+]}{[H_2A]}}$  "
   ]
  },
  {
   "cell_type": "markdown",
   "id": "4e6a92df-5e97-4270-88b6-0cc5ea1bf2e3",
   "metadata": {},
   "source": [
    "Calculate an expression for $\\alpha_{\\mathrm{HA}^-}$  \n",
    "$\\mathrm{\\alpha_{HA^-} = \\frac{[HA^-]}{A_T}}$  \n",
    "&nbsp;&nbsp;&nbsp;&nbsp;&nbsp;$\\mathrm{= \\frac{[HA^-]}{[HA^-]+[A^{2-}]+[H_2A]}}$"
   ]
  },
  {
   "cell_type": "markdown",
   "id": "ba4d3059-c20d-4e96-a7b2-7e4603f91b5b",
   "metadata": {},
   "source": [
    "$\\mathrm{Ka_1 = \\frac{[H^+][HA^-]}{[H_2A]}}$&nbsp;&nbsp;&nbsp;&nbsp;&nbsp; $\\mathrm{[H_2A] = \\frac{[H^+][HA^-]}{Ka_1}}$  \n",
    "$\\mathrm{Ka_2 = \\frac{[H^+][A^{2-}]}{[HA^-]}}$&nbsp;&nbsp;&nbsp;&nbsp;&nbsp; $\\mathrm{[A^{2-}]=\\frac{Ka_2[HA^-]}{[H^+]}}$  \n",
    "sub back in  \n",
    "$\\alpha_{\\mathrm{HA}^-} = \\mathrm{\\frac{[HA^-]}{[HA^-] + \\frac{Ka_2[HA^-]}{[H^+]} + \\frac{[H^+][HA^-]}{Ka_1}}}$  \n",
    "&nbsp;&nbsp;&nbsp;&nbsp;&nbsp;&nbsp;&nbsp;&nbsp;&nbsp;&nbsp;$=\\mathrm{\\frac{1}{1 + \\frac{Ka_2}{[H^+]} + \\frac{[H^+]}{Ka_1}}}$"
   ]
  },
  {
   "cell_type": "markdown",
   "id": "1681198f-2a6f-40e0-b940-49fc78efb820",
   "metadata": {},
   "source": [
    "$\\alpha_{\\mathrm{HA}^-} = \\mathrm{\\frac{Ka_1[H^+]}{Ka_1[H^+] + Ka_2Ka_1 + [H^+]^2}}$  \n",
    "$\\mathrm{\\alpha_{A^{2-}} = \\frac{Ka_1Ka_2}{Ka_1[H^+] + Ka_2Ka_1 + [H^+]^2}}$  \n",
    "$\\mathrm{\\alpha_{H_2O} = \\frac{[H^+]^2}{Ka_1[H^+] + Ka_2Ka_1 + [H^+]^2}}$"
   ]
  },
  {
   "cell_type": "code",
   "execution_count": 25,
   "id": "b72f0399-c8d3-4b5d-a4d2-036a6d49142f",
   "metadata": {},
   "outputs": [
    {
     "data": {
      "image/png": "[encoded data removed]"
     },
     "metadata": {
      "image/png": {
       "height": 420,
       "width": 560
      }
     },
     "output_type": "display_data"
    }
   ],
   "source": [
    "pKa1=6.3; pKa2=10.3; Kw=10^-14; \n",
    "Ka1=10^-pKa1; Ka2=10^-pKa2;\n",
    "pH=2:0.1:12; H=10.^-pH; OH=Kw./H;\n",
    "CT=0.01; \n",
    "\n",
    "denominator=H.^2+Ka1*H+Ka1*Ka2;\n",
    "alphaHA=(Ka1*H)./denominator; HCO3=CT*alphaHA;\n",
    "alphaA=(Ka1*Ka2)./denominator; CO3=CT*alphaA;\n",
    "\n",
    "Na=2*CT; % two sodium per mole of Na2CO3\n",
    "Cl=H+Na-HCO3-OH-2*CO3;\n",
    "\n",
    "% only plot the positive values\n",
    "c=0;\n",
    "for i=1:size(Cl,2)\n",
    "if Cl(i)>=0; c=c+1; Clpos(c)=Cl(i); pHpos(c)=pH(i); end\n",
    "end\n",
    "\n",
    "plot(Clpos,pHpos,'linewidth',2);\n",
    "set(gca,'linewidth',2,'fontsize',12)\n",
    "xlabel('[Cl^-]','fontsize',12);\n",
    "ylabel('pH','fontsize',12)\n",
    "title('Titration curve of Na2CO3')"
   ]
  },
  {
   "cell_type": "code",
   "execution_count": 26,
   "id": "8a8f49a8-c35f-48aa-8188-968459321d17",
   "metadata": {},
   "outputs": [
    {
     "data": {
      "image/png": "[encoded data removed]"
     },
     "metadata": {
      "image/png": {
       "height": 420,
       "width": 560
      }
     },
     "output_type": "display_data"
    }
   ],
   "source": [
    "dCl=diff(Clpos); \n",
    "dpH=diff(pHpos); \n",
    "B=-dCl./dpH; % since pH is decreasing we multiply by -1\n",
    "pHplot=pHpos(1:size(pHpos,2)-1)+dpH(1);\n",
    "plot(pHplot,B,'linewidth',2)\n",
    "set(gca,'linewidth',2,'fontsize',12)\n",
    "xlabel('pH','fontsize',12); \n",
    "ylabel('\\beta (mol L^{-1} pH^{-1})','fontsize',12)\n",
    "title('Buffer intensity Na2CO3')"
   ]
  },
  {
   "cell_type": "code",
   "execution_count": null,
   "id": "4e1b6fed-2294-46cd-beb9-052c1606cd0e",
   "metadata": {},
   "outputs": [],
   "source": []
  }
 ],
 "metadata": {
  "kernelspec": {
   "display_name": "Octave (xoctave)",
   "language": "Octave",
   "name": "xoctave"
  },
  "language_info": {
   "codemirror_mode": "octave",
   "file_extension": ".m",
   "mimetype": "text/x-octave",
   "name": "Octave",
   "nbconvert_exporter": "",
   "pygments_lexer": "octave",
   "version": "7.3.0"
  }
 },
 "nbformat": 4,
 "nbformat_minor": 5
}
