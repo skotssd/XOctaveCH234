{
 "cells": [
  {
   "cell_type": "code",
   "execution_count": 9,
   "id": "69eefeca-0a0b-4472-bfab-577c59283170",
   "metadata": {},
   "outputs": [],
   "source": [
    "% some housekeeping stuff\n",
    "%register_graphics_toolkit (\"notebook\");\n",
    "register_graphics_toolkit (\"plotly\");\n",
    "clear\n",
    "format short e\n",
    "% end of housekeeping"
   ]
  },
  {
   "cell_type": "markdown",
   "id": "9aeb87c6-5bbd-4041-8c9a-1105414a9832",
   "metadata": {},
   "source": [
    "# Weak Acids  \n",
    "Weak acids do not dissociate completely  \n",
    "$\\mathrm{HA} \\leftrightharpoons \\mathrm{H^+ + A^-}$  \n",
    "$\\mathrm{Ka = \\frac{[H^+][A^+]}{[HA]}}$  "
   ]
  },
  {
   "cell_type": "markdown",
   "id": "b210bc6b-f7c4-467a-b75d-99a43def6b41",
   "metadata": {},
   "source": [
    "**pH of 0.02 M HA (acetic acid)**  \n",
    "pKa = 4.75  \n",
    "write reactions: $\\mathrm{HAc \\leftrightharpoons H^+ + Ac^-}$ Ka  \n",
    "&nbsp; &nbsp; &nbsp; &nbsp; &nbsp; &nbsp; &nbsp; &nbsp; &nbsp; &nbsp; &nbsp; &nbsp; &nbsp;$\\mathrm{H_2O \\leftrightharpoons H^+ + OH^-}$ Kw  \n",
    "Write species: $\\mathrm{H^+, OH^-, Ac^-, HAc (H_2O)}$  \n",
    "need 4 relationships:\n",
    "1. mass action  \n",
    "$\\mathrm{Ka} = \\frac{\\mathrm{[H+][Ac^-]}}{\\mathrm{[HAc]}} = 10^{-4.75} $  \n",
    "$\\mathrm{Kw} = \\mathrm{[H^+][OH^-]} = 10^{-14}$ \n",
    "2. mass balance  \n",
    "$0.01 \\mathrm{M} = \\mathrm{[Ac^-] + [HAc]} = \\mathrm{HAc_T}$  \n",
    "3. charge balance  \n",
    "$\\mathrm{[H^+] = [OH^-] + [Ac^-]}$   "
   ]
  },
  {
   "cell_type": "markdown",
   "id": "9048ab42-e0ea-4f1c-91fb-e316b957713e",
   "metadata": {},
   "source": [
    "expected pH: acidic  \n",
    "anything negligible: yes, $[\\mathrm{OH^-}] \\approx 0$  \n",
    "$\\mathrm{[H^+] = [Ac^-]}$  \n",
    "need $\\mathrm{[Ac^-]} = f(\\mathrm{Ka, Hac_T, [H^+]})$  \n",
    "$\\mathrm{[Ac^-] = \\frac{[Ac^-] HAc_T}{HAc_T}}$  \n",
    "&nbsp; &nbsp; &nbsp; &nbsp; &nbsp; &nbsp; $\\mathrm{=\\frac{[Ac^-] HAc_T}{[Az^-] + [HAz]}}$  \n",
    "  \n",
    "$\\mathrm{[HAc] = \\frac{[H^+][Ac^-]}{Ka}}$&nbsp; &nbsp; &nbsp;&nbsp; &nbsp; &nbsp;*substitute into the equation above*    \n",
    "$\\mathrm{Ka} = \\frac{\\mathrm{[H+][Ac^-]}}{\\mathrm{[HAc]}} = 10^{-4.75} $    \n",
    "$\\mathrm{[Ac^-] = \\frac{[Ac^-]HAc_T}{[Ac^-] + \\frac{[H^+][Ac^-]}{Ka}}}$  \n",
    "&nbsp; &nbsp; &nbsp; &nbsp; &nbsp; &nbsp;$\\mathrm{=\\frac{HAc_T}{1+[H^+]}}$\n",
    "&nbsp; &nbsp; &nbsp; &nbsp; &nbsp; &nbsp;$\\mathrm{=\\frac{HAc_T}{1+[H^+]/Ka} * \\frac{Ka}{Ka} = \\frac{KaHAc_T}{Ka + [H^+]}}$  "
   ]
  },
  {
   "cell_type": "markdown",
   "id": "1ffa9e36-5105-42d8-81ef-b481b4be7adc",
   "metadata": {},
   "source": [
    "reduced charge balance  \n",
    "$\\mathrm{[H^+] = [Ac^-]}$  \n",
    "and we derived: $\\mathrm{[Ac^-] = \\frac{Ka * HAc_T}{Ka + [H^+]}}$  \n",
    "sub it into charge balance (one equation, one unknown)  \n",
    "$$\\mathrm{[H^+] = \\frac{Ka HAz_T}{Ka + [H^+]}}$$"
   ]
  },
  {
   "cell_type": "markdown",
   "id": "c728e8c1-3d85-423e-8a52-fa81bb84d6c6",
   "metadata": {},
   "source": [
    "$\\mathrm{[H^+]Ka + [H^+]^2 = KaHAc_T}$  \n",
    "$\\mathrm{[H^+]^2 + [H^+]Ka - KaHAc_T} = 0$"
   ]
  },
  {
   "cell_type": "code",
   "execution_count": 10,
   "id": "1781b326-208f-42cf-bcae-ad8122e4e40b",
   "metadata": {},
   "outputs": [
    {
     "data": {
      "text/plain": [
       "Ka = 1.7783e-05\n"
      ]
     },
     "metadata": {},
     "output_type": "display_data"
    },
    {
     "data": {
      "text/plain": [
       "t = 4.1290e-04\n"
      ]
     },
     "metadata": {},
     "output_type": "display_data"
    },
    {
     "data": {
      "text/plain": [
       "pH = 3.3842e+00\n"
      ]
     },
     "metadata": {},
     "output_type": "display_data"
    },
    {
     "data": {
      "text/plain": [
       "pOH = 1.0616e+01\n"
      ]
     },
     "metadata": {},
     "output_type": "display_data"
    }
   ],
   "source": [
    "% insert the variables and values\n",
    "%-Ka * HAcT = -10e-4.75*0.01\n",
    "Ka=10^-4.75\n",
    "\n",
    "% type out the quadratic constants (a, b and c)\n",
    "\n",
    "a=1; b=Ka; c=-Ka*0.01;\n",
    "\n",
    "% solve it. you do not need to change below this line\n",
    "\n",
    "t=roots([a b c]); %finds the roots\n",
    "t=t(imag(t)==0); %sets any imaginary roots to zero\n",
    "% display the positive real root\n",
    "\n",
    "t=t(t>0)\n",
    "\n",
    "% take minus log in case that might be useful (pH for example)\n",
    "\n",
    "pH=-log10(t)\n",
    "\n",
    "% or this is the pOH\n",
    "\n",
    "pOH=14-pH\n"
   ]
  },
  {
   "cell_type": "markdown",
   "id": "c998a771-488f-4042-abe1-b363328f8e36",
   "metadata": {},
   "source": [
    "remember [HCl] = 0.01 M and pH = 2.00  \n",
    "  \n",
    "week acid no matter pka will have an acidic pH!"
   ]
  }
 ],
 "metadata": {
  "kernelspec": {
   "display_name": "Octave (xoctave)",
   "language": "Octave",
   "name": "xoctave"
  },
  "language_info": {
   "codemirror_mode": "octave",
   "file_extension": ".m",
   "mimetype": "text/x-octave",
   "name": "Octave",
   "nbconvert_exporter": "",
   "pygments_lexer": "octave",
   "version": "7.3.0"
  }
 },
 "nbformat": 4,
 "nbformat_minor": 5
}
