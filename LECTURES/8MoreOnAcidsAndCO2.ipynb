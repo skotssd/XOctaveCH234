{
 "cells": [
  {
   "cell_type": "code",
   "execution_count": 5,
   "id": "ac497ed6-da38-4884-8812-09afcf438b25",
   "metadata": {},
   "outputs": [],
   "source": [
    "% some housekeeping stuff\n",
    "%register_graphics_toolkit (\"notebook\");\n",
    "register_graphics_toolkit (\"plotly\");\n",
    "clear\n",
    "format short e\n",
    "% end of housekeeping"
   ]
  },
  {
   "cell_type": "markdown",
   "id": "9a123786-d459-464d-a910-b10b135f7d83",
   "metadata": {},
   "source": [
    "# More on Acids and CO2"
   ]
  },
  {
   "cell_type": "code",
   "execution_count": null,
   "id": "8f274b92-a17b-4c99-9fd4-729fab5b1057",
   "metadata": {},
   "outputs": [],
   "source": [
    "pKa1 = input(\"Enter pKa1 value: \");\n",
    "pKa2 = input(\"Enter pKa2 value: \");\n",
    "%pKa1=6.3; pKa2=10.3;\n",
    "Ka1=10^-pKa1; Ka2=10^-pKa2;\n",
    "pH=2:0.1:12; H=10.^-pH;\n",
    "\n",
    "denominator=H.^2+Ka1*H+Ka1*Ka2;\n",
    "alphaH2A=(H.^2)./denominator;\n",
    "alphaHA=(Ka1*H)./denominator;\n",
    "alphaA=1-alphaH2A-alphaHA;\n",
    "\n",
    "plot(pH,alphaH2A,'linewidth',2,pH,alphaHA,'linewidth',2,pH,alphaA,'linewidth',2)\n",
    "set(gca,'fontsize',12,'linewidth',2)\n",
    "legend('H_2A','HA^-','A^{2-}')\n",
    "title('Distribution Diagram for H2A')\n",
    "xlabel('pH'); ylabel('\\alpha','fontsize',16)\n",
    "\n",
    "hold on\n",
    "plot([pKa1 pKa1],[0 1],'k:','linewidth',2)\n",
    "plot([pKa2 pKa2],[0 1],'k:','linewidth',2)\n",
    "plot([2 12],[0.5 0.5],'k:','linewidth',2)"
   ]
  },
  {
   "cell_type": "markdown",
   "id": "d1193a1d-62f6-481a-9f96-a7466cb90437",
   "metadata": {},
   "source": [
    "### metal ions as acids  \n",
    "for $\\mathrm{Al^{3+}}$ pka = 5.00.  \n",
    "$\\mathrm{Al^{3+} + H_2O \\rightleftharpoons H^+ + AlOH^{2+}}$  \n",
    "$\\mathrm{Al(H_2O)_6^{3+} \\rightleftharpoons Al(H_2O)_5OH^{2+} + H^+}$  "
   ]
  },
  {
   "cell_type": "markdown",
   "id": "c3509a09-ac48-4845-8c94-fe9a5b97e51b",
   "metadata": {},
   "source": [
    "**pH of 0.01 M Al(NO<sub>3</sub>)<sub>3</sub>**  \n",
    "reactions: $\\mathrm{H_2O = H^+ + OH^-}$ Kw  \n",
    "&nbsp;&nbsp;&nbsp;&nbsp;&nbsp;&nbsp;&nbsp;&nbsp;&nbsp;&nbsp;&nbsp;&nbsp;&nbsp;&nbsp;&nbsp; $\\mathrm{Al(NO_3)_3 \\rightarrow Al^{3+} + 3NO_3^-}$  \n",
    "$\\mathrm{Al^{3+} + H_2O \\rightleftharpoons AlOH^{2+} + H^+}$ Ka  \n",
    "species: $\\mathrm{H^+, OH^-, Al^{3+}, AlOH^{2+}, NO_3^-}$  \n",
    "$[H^+] + 3[Al^{3+}] + 2[AlOH^{2+}] = [NO_3^-] + [OH^-]$  \n",
    "&nbsp;&nbsp;&nbsp;&nbsp;&nbsp;&nbsp;&nbsp;&nbsp;&nbsp;&nbsp;&nbsp;protonated&nbsp;&nbsp;&nbsp;&nbsp;&nbsp;&nbsp;&nbsp;deprotonated"
   ]
  },
  {
   "cell_type": "markdown",
   "id": "2f1c2457-c91b-4474-a40f-ac3292ceaade",
   "metadata": {},
   "source": [
    "$\\mathrm{\\alpha_A = \\frac{Ka}{Ka + [H^+]}}$  \n",
    "$\\mathrm{\\alpha_{HA} = \\frac{[H^+]}{Ka+[H^+]}}$  \n",
    "$\\mathrm{[H^+] + 3 (\\frac{[H^+]Al_T}{Ka + [H^+]}) + 2(\\frac{KaAl_T}{Ka + [H^+]})}$  \n",
    "&nbsp;&nbsp;&nbsp;&nbsp;&nbsp;&nbsp;&nbsp;&nbsp;&nbsp;&nbsp;&nbsp;$\\mathrm{= NO_{3T}}$  \n",
    "$\\mathrm{Ka[H^+] + [H^+]^2 + 3[H^+]Al_T + 2KaAl_T}$"
   ]
  },
  {
   "cell_type": "code",
   "execution_count": 7,
   "id": "0a42202b-654e-416f-869c-85ceb2a9ce6a",
   "metadata": {},
   "outputs": [
    {
     "data": {
      "text/plain": [
       "NO3T = 0.030000\n"
      ]
     },
     "metadata": {},
     "output_type": "display_data"
    },
    {
     "data": {
      "text/plain": [
       "c = -1.0000e-07\n"
      ]
     },
     "metadata": {},
     "output_type": "display_data"
    },
    {
     "data": {
      "text/plain": [
       "t = 3.1127e-04\n"
      ]
     },
     "metadata": {},
     "output_type": "display_data"
    },
    {
     "data": {
      "text/plain": [
       "pH = 3.5069\n"
      ]
     },
     "metadata": {},
     "output_type": "display_data"
    },
    {
     "data": {
      "text/plain": [
       "pOH = 10.493\n"
      ]
     },
     "metadata": {},
     "output_type": "display_data"
    }
   ],
   "source": [
    "% insert the variables and values\n",
    "\n",
    "AlT = 0.01; Ka = 10^(-5); NO3T = 0.03\n",
    "%NO3T=3X0.01\n",
    "\n",
    "% type out the quadratic constants (a, b and c)\n",
    "\n",
    "a=1; b=Ka+3*AlT-NO3T; c=2*Ka*AlT-NO3T*Ka\n",
    "\n",
    "% solve it. you do not need to change below this line\n",
    "\n",
    "t=roots([a b c]); %finds the roots\n",
    "t=t(imag(t)==0); %sets any imaginary roots to zero\n",
    "% display the positive real root\n",
    "\n",
    "t=t(t>0)\n",
    "\n",
    "% take minus log in case that might be useful (pH for example)\n",
    "\n",
    "pH=-log10(t)\n",
    "\n",
    "% or this is the pOH\n",
    "\n",
    "pOH=14-pH"
   ]
  },
  {
   "cell_type": "markdown",
   "id": "b6ec7136-0a78-4b3e-8140-0f82e1a527fb",
   "metadata": {},
   "source": [
    "End of material for test #2\n",
    "____"
   ]
  },
  {
   "cell_type": "markdown",
   "id": "4b6e1b14-f088-4446-a252-7986389085b4",
   "metadata": {},
   "source": [
    "### CO<sub>2(g)</sub> in water  \n",
    "$\\mathrm{H_2CO_3 \\rightleftharpoons H^+ + HCO_3^-}$ Ka<sub>1</sub>  \n",
    "Carbonic Acid&nbsp;&nbsp;&nbsp;&nbsp;&nbsp;&nbsp;Bicarbonate  \n",
    "$\\mathrm{HCO_3^- \\rightleftharpoons H^+ + CO_3^{2-}}$ Ka<sub>2</sub>  \n",
    "&nbsp;&nbsp;&nbsp;&nbsp;&nbsp;&nbsp;&nbsp;&nbsp;&nbsp;&nbsp;&nbsp;&nbsp;&nbsp;&nbsp;&nbsp;&nbsp;&nbsp;&nbsp;&nbsp;&nbsp;&nbsp;&nbsp;&nbsp;&nbsp;Carbonate  \n",
    "$\\mathrm{Ka_1 = 10^{-6.3}}$  \n",
    "$\\mathrm{Ka_2 = 10^{-10.3}}$\n",
    "![](moreacidsgraph.png)"
   ]
  },
  {
   "cell_type": "markdown",
   "id": "d795fd3f-8de9-4aaa-9d2d-a112e4b2549e",
   "metadata": {},
   "source": [
    "### pH of rain water = ?  \n",
    "$\\mathrm{CO_{2(g)} \\rightleftharpoons CO_{2(aq)}}$ KH  \n",
    "Henry's Law  \n",
    "$\\mathrm{CO_{2(aq)} + H_2O \\rightleftharpoons H_2CO_{3(aq)}}$  \n",
    "add reactions:  \n",
    "$\\mathrm{CO_{2(g)} + H_2O \\rightleftharpoons H_2CO_{2(aq)}}$  \n",
    "$\\mathrm{K_H = 10^{-1.5}}$(given on tests)  \n",
    "species: $\\mathrm{H^+, OH^-, HCO_3^-, CO_3^{2-}, H_2CO_3, CO_{2(g)}}$  \n",
    "$\\mathrm{P_{CO_2} = 10^{-3.5} atm}$  \n",
    "charge balance  \n",
    "$\\mathrm{[H^+] = [OH^-] + [HCO_3^-] + 2[CO_3^{2-}]}$  \n",
    "what is negligble? OH<sup>-</sup> acidic pH  \n",
    "$\\mathrm{[H^+] = [HCO_3^-]}$"
   ]
  },
  {
   "cell_type": "code",
   "execution_count": null,
   "id": "fa4aa041-e1bb-477e-b16f-f46467c50595",
   "metadata": {},
   "outputs": [],
   "source": []
  }
 ],
 "metadata": {
  "kernelspec": {
   "display_name": "Octave (xoctave)",
   "language": "Octave",
   "name": "xoctave"
  },
  "language_info": {
   "codemirror_mode": "octave",
   "file_extension": ".m",
   "mimetype": "text/x-octave",
   "name": "Octave",
   "nbconvert_exporter": "",
   "pygments_lexer": "octave",
   "version": "7.3.0"
  }
 },
 "nbformat": 4,
 "nbformat_minor": 5
}
