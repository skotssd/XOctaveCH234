{
 "cells": [
  {
   "cell_type": "code",
   "execution_count": null,
   "id": "955179d2-d2e4-42b7-bf68-f110e15e35f5",
   "metadata": {},
   "outputs": [],
   "source": [
    "% some housekeeping stuff\n",
    "%register_graphics_toolkit (\"notebook\");\n",
    "register_graphics_toolkit (\"plotly\");\n",
    "clear\n",
    "format short e\n",
    "% end of housekeeping"
   ]
  },
  {
   "cell_type": "markdown",
   "id": "dbdc50ad-5d89-4300-9fa3-fcef82975257",
   "metadata": {},
   "source": [
    "# Alkalinity  \n",
    "Alkalinity is the capacity of water to react with protons and is expressed in units of concentration (we will use mol/L). The \"industry\" often uses mgCaCO<sub>3</sub>/L.  \n",
    "Common major ions in water:  \n",
    "- anions: $\\mathrm{CO_3^{2-}, Cl^-, OH^-, SO_4^{2-}}$  \n",
    "- cations: $\\mathrm{Ca^{2+}, Mg^{2+}, H^+, Na^+, K^+}$"
   ]
  },
  {
   "cell_type": "markdown",
   "id": "5d4dc906-c4cc-466f-af19-fec9d31494ce",
   "metadata": {},
   "source": [
    "**charge balance**  \n",
    "$\\mathrm{2[Ca^+] + 2[Mg^{2+}] + [H^+] + [Na^+] + [K^+]}$\n",
    "$\\mathrm{= 2[CO_3^{2-}] + [Cl^-] + [HCO_3^-] + 2[SO_4^{2-}] + [OH^-]}$  \n",
    "rearrange with strong base cations and strong acid anions all on the left.  \n",
    "$\\mathrm{2[Ca^+] + 2[Mg^{2+}] + [Na^+] + [K^+] - [Cl^-] - 2[SO_4^{2-}]}$  \n",
    "$\\mathrm{= 2[CO_3^{2-}] + [HCO_3^-] + [OH^-] + [H^+]}$ $\\leftarrow$ \"protolytes\" react with protons  \n",
    "$\\mathrm{= alkalinity}$"
   ]
  },
  {
   "cell_type": "markdown",
   "id": "1b0eb295-0df1-4cd8-b8a9-669568d263bb",
   "metadata": {},
   "source": [
    "so we can calculate alkalinity as $\\Sigma$ SBCcharge - $\\Sigma$ SAAcharge = Alkalinity (mol/L)  \n",
    "$\\mathrm{alk = \\Sigma SBC - \\Sigma SAC}$  \n",
    "$= 0.01 - 0$  \n",
    "$= 0.01 \\mathrm{mol/L}$"
   ]
  },
  {
   "cell_type": "markdown",
   "id": "fdf47328-4655-4f16-ac35-36ec3b35b819",
   "metadata": {},
   "source": [
    "0.01 M Na_2CO_3 alk = ? (0.02 M)  \n",
    "0.01 M NaCl alk = ? (0)  \n",
    "Water in equillibrium with 10<sup>-3.5</sup> CO<sub>2 (g)</sub> alk = ? (0)"
   ]
  },
  {
   "cell_type": "markdown",
   "id": "3979a88d-d862-489e-a262-f7ce507121c2",
   "metadata": {},
   "source": [
    "The generalized term is acid neutralizing capacity (ANC)  \n",
    "ANC of 0.01 NaAc = 0.01 mol/L  \n",
    "0.01 M Na<sub>3</sub>citrate with 0.01 M HCl  \n",
    "$\\mathrm{Alk = 0.02 mol/L  }$  \n",
    "$\\mathrm{[Na^+] = 0.03}$ &nbsp;&nbsp;&nbsp;&nbsp;&nbsp;&nbsp; $\\mathrm{[Cl^-] = 0.03}$"
   ]
  },
  {
   "cell_type": "markdown",
   "id": "7688a30c-e52d-4dfb-b1b2-a4cd20da2bd5",
   "metadata": {},
   "source": [
    "0.01 M Na<sub>3</sub>citrate with 0.01 M HAc  \n",
    "alk = ? 0.03 mol/L"
   ]
  },
  {
   "cell_type": "markdown",
   "id": "680d1d62-574a-4aa3-8c33-8ebc19e11eff",
   "metadata": {},
   "source": [
    "***Ksp*** &nbsp;&nbsp;&nbsp;&nbsp;&nbsp; $\\mathrm{AB_{s} \\rightleftharpoons A_{aq}^+ + B_{aq}^-}$  \n",
    "$\\mathrm{CaCO_{3(s)} \\rightleftharpoons Ca^{2+} + CO_3^{2-}}$  \n",
    "$\\mathrm{Ksp = 10^{-8.5}}$  \n",
    "&nbsp;&nbsp;&nbsp;&nbsp;&nbsp;&nbsp;&nbsp; $\\mathrm{= [Ca^{2+}][CO_3^{2-}]}$"
   ]
  },
  {
   "cell_type": "code",
   "execution_count": null,
   "id": "eb841d6d-cd05-474d-918e-9e7fe8e6784a",
   "metadata": {},
   "outputs": [],
   "source": []
  }
 ],
 "metadata": {
  "kernelspec": {
   "display_name": "Octave (xoctave)",
   "language": "Octave",
   "name": "xoctave"
  },
  "language_info": {
   "codemirror_mode": "octave",
   "file_extension": ".m",
   "mimetype": "text/x-octave",
   "name": "Octave",
   "nbconvert_exporter": "",
   "pygments_lexer": "octave",
   "version": "7.3.0"
  }
 },
 "nbformat": 4,
 "nbformat_minor": 5
}
