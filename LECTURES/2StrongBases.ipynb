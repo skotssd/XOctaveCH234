{
 "cells": [
  {
   "cell_type": "code",
   "execution_count": 5,
   "id": "b9563130-6626-43ac-829e-8aeca1131cfd",
   "metadata": {},
   "outputs": [],
   "source": [
    "% some housekeeping stuff\n",
    "%register_graphics_toolkit (\"notebook\");\n",
    "register_graphics_toolkit (\"plotly\");\n",
    "clear\n",
    "format short e\n",
    "% end of housekeeping"
   ]
  },
  {
   "cell_type": "markdown",
   "id": "e64c069a-0a6d-43ea-98ec-e4b48df8a29e",
   "metadata": {},
   "source": [
    "# Strong Bases  \n",
    "**0.01 M NaOH pH**  \n",
    "$[\\mathrm{OH^-}] = 0.01 \\mathrm{0.01 mol/L}$  \n",
    "$\\mathrm{K_w} = \\mathrm{[H^+][OH^-]} = 10^{-14}$  \n",
    "&nbsp; &nbsp; &nbsp; &nbsp; &nbsp; &nbsp; &nbsp; &nbsp; &nbsp; &nbsp; &nbsp; $[\\mathrm{H^+}] = \\frac{10^{-14}}{\\mathrm{[OH^+}]} = \\frac{10^{-14}}{10^{-2}} = 10^{-12}$  \n",
    "pH = 12.00"
   ]
  },
  {
   "cell_type": "markdown",
   "id": "69b4601c-a84f-463a-b40f-7da72c24b50e",
   "metadata": {},
   "source": [
    "**10nM Sr(OH)<sub>2</sub> pH**  \n",
    "reactions: $\\mathrm{Sr(OH)_2} \\rightarrow \\mathrm{Sr^{2+} + 2OH^-}$  \n",
    "&nbsp; &nbsp; &nbsp; &nbsp; &nbsp; &nbsp; &nbsp; &nbsp; &nbsp; $\\mathrm{H_2O}\\rightarrow \\mathrm{H^+ + OH^-}$&nbsp; &nbsp; &nbsp; &nbsp;$\\mathrm{K_w} = 10^{-14}$  \n",
    "list species: H<sup>+</sup>, OH<sup>-</sup>, Sr<sup>2+</sup>  \n",
    "3 equations  \n",
    "$\\mathrm{Kw} = \\mathrm{[H^+][OH^-]} = 10^{-14}$  \n",
    "$\\mathrm{Sr_T} = \\mathrm{[Sr^{2+}] = 10nM = 10e-9  M}$  \n",
    "$\\mathrm{[H^+] + 2[Sr^{2+}] = [OH^-]}$  \n",
    "$\\mathrm{[H^+] + 2Sr_T = \\frac{K_w}{[H^+]}}$  \n",
    "$\\mathrm{[H^+]^2 + 2Sr_T[H^+] = Kw}$"
   ]
  },
  {
   "cell_type": "code",
   "execution_count": 6,
   "id": "994e97e4-8a7d-4c95-be85-f708c0622b6d",
   "metadata": {},
   "outputs": [
    {
     "data": {
      "text/plain": [
       "Kw = 1.0000e-14\n"
      ]
     },
     "metadata": {},
     "output_type": "display_data"
    },
    {
     "data": {
      "text/plain": [
       "t = 1.1050e-07\n"
      ]
     },
     "metadata": {},
     "output_type": "display_data"
    },
    {
     "data": {
      "text/plain": [
       "pH = 6.9566e+00\n"
      ]
     },
     "metadata": {},
     "output_type": "display_data"
    },
    {
     "data": {
      "text/plain": [
       "pOH = 7.0434e+00\n"
      ]
     },
     "metadata": {},
     "output_type": "display_data"
    }
   ],
   "source": [
    "% insert the variables and values\n",
    "%SrT = 2x10e-9\n",
    "SrT = 20e-9; Kw=10^-14\n",
    "\n",
    "% type out the quadratic constants (a, b and c)\n",
    "\n",
    "a=1; b=-SrT; c=-Kw;\n",
    "\n",
    "% solve it. you do not need to change below this line\n",
    "\n",
    "t=roots([a b c]); %finds the roots\n",
    "t=t(imag(t)==0); %sets any imaginary roots to zero\n",
    "% display the positive real root\n",
    "\n",
    "t=t(t>0)\n",
    "\n",
    "% take minus log in case that might be useful (pH for example)\n",
    "\n",
    "pH=-log10(t)\n",
    "\n",
    "% or this is the pOH\n",
    "\n",
    "pOH=14-pH\n"
   ]
  },
  {
   "cell_type": "code",
   "execution_count": null,
   "id": "99820773-bcc3-41da-bb06-18ed84ed3d06",
   "metadata": {},
   "outputs": [],
   "source": []
  }
 ],
 "metadata": {
  "kernelspec": {
   "display_name": "Octave (xoctave)",
   "language": "Octave",
   "name": "xoctave"
  },
  "language_info": {
   "codemirror_mode": "octave",
   "file_extension": ".m",
   "mimetype": "text/x-octave",
   "name": "Octave",
   "nbconvert_exporter": "",
   "pygments_lexer": "octave",
   "version": "7.3.0"
  }
 },
 "nbformat": 4,
 "nbformat_minor": 5
}
