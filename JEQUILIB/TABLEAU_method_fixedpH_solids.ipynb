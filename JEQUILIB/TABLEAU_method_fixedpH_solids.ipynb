{
 "cells": [
  {
   "cell_type": "code",
   "execution_count": 3,
   "id": "16ba4d47-6066-48c0-af76-1f509a12c559",
   "metadata": {},
   "outputs": [],
   "source": [
    "% some housekeeping stuff\n",
    "register_graphics_toolkit (\"gnuplot\");\n",
    "available_graphics_toolkits ();\n",
    "graphics_toolkit (\"gnuplot\")\n",
    "clear\n",
    "% load packages\n",
    "warning off\n",
    "pkg load statistics\n",
    "% clear and warning off\n",
    "clear\n",
    "\n",
    "% end of housekeeping"
   ]
  },
  {
   "cell_type": "markdown",
   "id": "3e7822de-a3ed-4977-8402-cbacd5ae9937",
   "metadata": {},
   "source": [
    "### simple example\n",
    "\n",
    "consider fixed pH.  you don't have to worry about TOTH!\n",
    "\n",
    "tableau for aluminum hydroxide with solids"
   ]
  },
  {
   "cell_type": "code",
   "execution_count": 4,
   "id": "427bc6af-2c1a-4ab7-a3a6-9ba8a4253e80",
   "metadata": {},
   "outputs": [
    {
     "data": {
      "text/plain": [
       "H = 1.0000e-06\n"
      ]
     },
     "metadata": {},
     "output_type": "display_data"
    },
    {
     "data": {
      "text/plain": [
       "e = 1.7783e-15\n"
      ]
     },
     "metadata": {},
     "output_type": "display_data"
    },
    {
     "data": {
      "text/plain": [
       "Al = 5.8884e-10\n"
      ]
     },
     "metadata": {},
     "output_type": "display_data"
    },
    {
     "data": {
      "text/plain": [
       "AlOH = 5.8884e-09\n"
      ]
     },
     "metadata": {},
     "output_type": "display_data"
    },
    {
     "data": {
      "text/plain": [
       "AlOH2 = 4.6774e-08\n"
      ]
     },
     "metadata": {},
     "output_type": "display_data"
    },
    {
     "data": {
      "text/plain": [
       "AlOH3 = 9.3325e-09\n"
      ]
     },
     "metadata": {},
     "output_type": "display_data"
    },
    {
     "data": {
      "text/plain": [
       "AlOH4 = 7.9433e-09\n"
      ]
     },
     "metadata": {},
     "output_type": "display_data"
    },
    {
     "data": {
      "text/plain": [
       "Al2 = 6.9183e-15\n"
      ]
     },
     "metadata": {},
     "output_type": "display_data"
    },
    {
     "data": {
      "text/plain": [
       "Al3 = 2.9512e-18\n"
      ]
     },
     "metadata": {},
     "output_type": "display_data"
    },
    {
     "data": {
      "text/plain": [
       "Al13 = 1.9055e-27\n"
      ]
     },
     "metadata": {},
     "output_type": "display_data"
    },
    {
     "data": {
      "text/plain": [
       "Gibbsite = 9.2947e-07\n"
      ]
     },
     "metadata": {},
     "output_type": "display_data"
    }
   ],
   "source": [
    "% start of tableau (problem definition)\n",
    "% you can change this part\n",
    "\n",
    "Tableau=[...\n",
    "%H      e        AlT      logK     phase     species1 \n",
    "1       0        0          0        0        {'H'}\n",
    "0       1        0          0        0        {'e '}\n",
    "0       0        1          0        0        {'Al'}\n",
    "-1      0        1          -5.00    0        {'AlOH'}\n",
    "-2      0        1          -10.1    0        {'AlOH2'}\n",
    "-3      0        1          -16.8    0        {'AlOH3'}\n",
    "-4      0        1          -22.87   0        {'AlOH4'} \n",
    "-2      0        2          -7.7     0        {'Al2'}\n",
    "-4      0        3          -13.84   0        {'Al3'}\n",
    "-32     0        13         -98.73   0        {'Al13'}\n",
    "-3      0        1          -8.77    1        {'Gibbsite'} \n",
    "];\n",
    "\n",
    "%input totals and pH and pe\n",
    "AlT=1e-6; T=[AlT]; pH=6; \n",
    "pe=20.75-pH; % oxic\n",
    "%pe=-pH; % reducing\n",
    "\n",
    "% end of tableau.  ------------------ % ----------------------------------------------\n",
    "% no changes below this line --------------------------------------------------------\n",
    "\n",
    "[KSOLID,ASOLID,SOLIDNAMES,KSOLUTION,ASOLUTION,SOLUTIONNAMES]=processtableau(Tableau,pH,pe);\n",
    "flag1=2; flag2=1; % default to logX solution scheme with analtyical derivatives\n",
    "database=[]; % deacivated PHREEQC solver.\n",
    "[SPECIESCONCS,SPECIATIONNAMES,MASSERR,X]=returnspeciationRE(KSOLID,ASOLID,SOLIDNAMES,KSOLUTION,ASOLUTION,SOLUTIONNAMES,T,flag1,flag2,database);\n",
    "\n",
    "% this will generate the outputs\n",
    "\n",
    "for k=1:size(SPECIESCONCS,1)\n",
    "      txt=[SPECIATIONNAMES(k,:),'=SPECIESCONCS(k)'];\n",
    "      eval(txt)\n",
    "end\n",
    "\n"
   ]
  },
  {
   "cell_type": "code",
   "execution_count": null,
   "id": "20c387f0-c532-4372-8cd9-b515c6017d33",
   "metadata": {},
   "outputs": [],
   "source": []
  },
  {
   "cell_type": "code",
   "execution_count": null,
   "id": "61500dd2-a070-45ff-b356-5d2e6c0fc005",
   "metadata": {},
   "outputs": [],
   "source": []
  }
 ],
 "metadata": {
  "kernelspec": {
   "display_name": "Octave (xoctave)",
   "language": "Octave",
   "name": "xoctave"
  },
  "language_info": {
   "codemirror_mode": "octave",
   "file_extension": ".m",
   "mimetype": "text/x-octave",
   "name": "Octave",
   "nbconvert_exporter": "",
   "pygments_lexer": "octave",
   "version": "7.3.0"
  }
 },
 "nbformat": 4,
 "nbformat_minor": 5
}
