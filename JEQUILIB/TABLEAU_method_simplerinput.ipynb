{
 "cells": [
  {
   "cell_type": "code",
   "execution_count": 5,
   "id": "16ba4d47-6066-48c0-af76-1f509a12c559",
   "metadata": {},
   "outputs": [],
   "source": [
    "% some housekeeping stuff\n",
    "%register_graphics_toolkit (\"gnuplot\");\n",
    "%available_graphics_toolkits ();\n",
    "graphics_toolkit (\"plotly\")\n",
    "clear\n",
    "% load packages\n",
    "%pkg load statistics\n",
    "% clear and warning off\n",
    "clear\n",
    "warning off\n",
    "% end of housekeeping"
   ]
  },
  {
   "cell_type": "markdown",
   "id": "3e7822de-a3ed-4977-8402-cbacd5ae9937",
   "metadata": {},
   "source": [
    "### modify the tableau to solve simple problems in solution"
   ]
  },
  {
   "cell_type": "code",
   "execution_count": 7,
   "id": "427bc6af-2c1a-4ab7-a3a6-9ba8a4253e80",
   "metadata": {},
   "outputs": [
    {
     "data": {
      "text/plain": [
       "check = 2.6021e-13\n"
      ]
     },
     "metadata": {},
     "output_type": "display_data"
    },
    {
     "data": {
      "text/plain": [
       "H = 4.1290e-04\n"
      ]
     },
     "metadata": {},
     "output_type": "display_data"
    },
    {
     "data": {
      "text/plain": [
       "A = 4.1290e-04\n"
      ]
     },
     "metadata": {},
     "output_type": "display_data"
    },
    {
     "data": {
      "text/plain": [
       "OH = 2.4219e-11\n"
      ]
     },
     "metadata": {},
     "output_type": "display_data"
    },
    {
     "data": {
      "text/plain": [
       "HA = 9.5871e-03\n"
      ]
     },
     "metadata": {},
     "output_type": "display_data"
    },
    {
     "data": {
      "text/plain": [
       "pH = 3.3842\n"
      ]
     },
     "metadata": {},
     "output_type": "display_data"
    },
    {
     "data": {
      "text/plain": [
       "chargecheck = -3.2526e-19\n"
      ]
     },
     "metadata": {},
     "output_type": "display_data"
    }
   ],
   "source": [
    "% start of tableau (problem definition)\n",
    "\n",
    "% you can change this part--------------\n",
    "TABLEAU=[...\n",
    "%%%%%%%%%%%%%%%%%%%%%%%%%%%%%%%%%%%%%%%%%%%%%%%%%%%%%%%%%%%%%%%%%%%%%%%%%%%%%%%%%%%%%%%\n",
    "%H     A     logK  species \n",
    "%%%%%%%%%%%%%%%%%%%%%%%%%%%%%%%%%%%%%%%%%%%%%%%%%%%%%%%%%%%%%%%%%%%%%%%%%%%%%%%%%%%%%%%\n",
    "1      0     0        {'H'}\n",
    "0      1     0        {'A'}\n",
    "-1     0     -14      {'OH'}\n",
    "1      1     4.75     {'HA'}\n",
    "%%%%%%%%%%%%%%%%%%%%%%%%%%%%%%%%%%%%%%%%%%%%%%%%%%%%%%%%%%%%%%%%%%%%%%%%%%%%%%%%%%%%%%%%\n",
    "0.01   0.01  0        {'TOTALS'}]; %0 in logK column just a place holder\n",
    "%%%%%%%%%%%%%%%%%%%%%%%%%%%%%5%%%%%%%%%%%%%%%%%%%%%%%%%%%%%%%%%%%%%%%%%%%%%%%%%%%%%%%%%%\n",
    "% end of tableau.  ------------------------------------------------------------------- %\n",
    "% no changes below this line --------------------------------------------------------\n",
    "\n",
    "[n,m]=size(TABLEAU);\n",
    "T=cell2mat(TABLEAU(n,1:m-2)');\n",
    "TABLEAU=TABLEAU(1:n-1,:);\n",
    "[N,M]=size(TABLEAU);\n",
    "ASOLUTION=cell2mat(TABLEAU(1:N,1:M-2));\n",
    "KSOLUTION=cell2mat(TABLEAU(1:N,M-1));\n",
    "SOLUTIONNAMES=strvcat(TABLEAU(1:N,M));\n",
    "T(T==0)=1e-30;\n",
    "[X,F,J,SPECIESCONCS]=nl_massbalancerrnosolid_NR(T,ASOLUTION,KSOLUTION,T);\n",
    "%----------------------------------------------------------------------------------------\n",
    "\n",
    "% this will generate the outputs\n",
    "\n",
    "check=100*(max(abs(F)./T)) %worst case error in%\n",
    "\n",
    "for k=1:size(SPECIESCONCS,1)\n",
    "      txt=[SOLUTIONNAMES(k,:),'=SPECIESCONCS(k)'];\n",
    "      eval(txt)\n",
    "end\n",
    "\n",
    "pH=-log10(H)\n",
    "chargecheck=H-OH-A\n"
   ]
  },
  {
   "cell_type": "code",
   "execution_count": null,
   "id": "20c387f0-c532-4372-8cd9-b515c6017d33",
   "metadata": {},
   "outputs": [],
   "source": []
  },
  {
   "cell_type": "code",
   "execution_count": null,
   "id": "f54fc884-b5bd-4f08-b4d6-e06289ca6e88",
   "metadata": {},
   "outputs": [],
   "source": []
  }
 ],
 "metadata": {
  "kernelspec": {
   "display_name": "Octave (xoctave)",
   "language": "Octave",
   "name": "xoctave"
  },
  "language_info": {
   "codemirror_mode": "octave",
   "file_extension": ".m",
   "mimetype": "text/x-octave",
   "name": "Octave",
   "nbconvert_exporter": "",
   "pygments_lexer": "octave",
   "version": "7.3.0"
  }
 },
 "nbformat": 4,
 "nbformat_minor": 5
}
