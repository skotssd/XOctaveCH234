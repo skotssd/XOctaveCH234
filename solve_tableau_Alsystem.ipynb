{
 "cells": [
  {
   "cell_type": "code",
   "execution_count": 15,
   "metadata": {},
   "outputs": [],
   "source": [
    "% some housekeeping stuff\n",
    "register_graphics_toolkit (\"gnuplot\");\n",
    "available_graphics_toolkits ();\n",
    "graphics_toolkit (\"gnuplot\")\n",
    "warning ('off')\n",
    "clear\n",
    "% end of housekeeping"
   ]
  },
  {
   "cell_type": "code",
   "execution_count": 16,
   "metadata": {},
   "outputs": [
    {
     "name": "stdout",
     "output_type": "stream",
     "text": [
      "concs =\n",
      "\n",
      "   3.0429e-04\n",
      "   9.6239e-05\n",
      "   3.2864e-11\n",
      "   3.2364e-06\n",
      "   5.2093e-07\n",
      "   3.4158e-09\n",
      "   1.1226e-13\n",
      "   6.5832e-52\n",
      "\n",
      "pH = 3.5167e+00\n"
     ]
    }
   ],
   "source": [
    "AlT=1e-4;\n",
    "\n",
    "TABLEAU=[...\n",
    "%H+   Al     logK\n",
    "1     0      0       %H\n",
    "0     1      0       %Al\n",
    "-1    0      -14     %OH\n",
    "-1    1      -4.99   %AlOH\n",
    "-2    1      -9.3    %AlOH2\n",
    "-3    1      -15     %AlOH3\n",
    "-4    1      -23     %AlOH4\n",
    "-32   13     -111.5  %Al13OH32\n",
    "AlT*3     AlT   0       %TOTALS\n",
    "];\n",
    "\n",
    "% now take TABLEAU apart --------------------------------------------------\n",
    "\n",
    "[N,M]=size(TABLEAU);\n",
    "\n",
    "ASOLUTION=TABLEAU(1:N-1,1:M-1);\n",
    "KSOLUTION=TABLEAU(1:N-1,M);\n",
    "T=TABLEAU(N,1:M-1)'; T(T==0)=1e-30;\n",
    "\n",
    "format short e\n",
    "\n",
    "X=T./10; [xans,masserr,J,C] = nl_massbalancerrnosolid_NR(X,ASOLUTION,KSOLUTION,T);\n",
    "\n",
    "concs=C\n",
    "pH=-log10(C(1))"
   ]
  }
 ],
 "metadata": {
  "kernelspec": {
   "display_name": "Octave (xoctave)",
   "language": "Octave",
   "name": "xoctave"
  },
  "language_info": {
   "codemirror_mode": "octave",
   "file_extension": ".m",
   "mimetype": "text/x-octave",
   "name": "Octave",
   "nbconvert_exporter": "",
   "pygments_lexer": "octave",
   "version": "7.3.0"
  }
 },
 "nbformat": 4,
 "nbformat_minor": 4
}
