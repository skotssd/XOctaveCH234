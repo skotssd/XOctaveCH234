{
 "cells": [
  {
   "cell_type": "markdown",
   "metadata": {},
   "source": [
    "# TEST PHREEQC\n"
   ]
  },
  {
   "cell_type": "code",
   "execution_count": 1,
   "metadata": {},
   "outputs": [],
   "source": [
    "% some housekeeping stuff\n",
    "register_graphics_toolkit (\"gnuplot\");\n",
    "available_graphics_toolkits ();\n",
    "graphics_toolkit (\"gnuplot\")\n",
    "clear\n",
    "% end of housekeeping"
   ]
  },
  {
   "cell_type": "code",
   "execution_count": 2,
   "metadata": {},
   "outputs": [
    {
     "name": "stdout",
     "output_type": "stream",
     "text": [
      "Input file: runphreeqc.txt\n",
      "\n",
      "Output file: out.txt\n",
      "\n",
      "Database file: PHREEQC.dat\n",
      "\n",
      "\n",
      "Initializing...                                                                 \n",
      "\n",
      "End of Run after 0.006022 Seconds.\n"
     ]
    }
   ],
   "source": [
    "system(\"chmod +x phreeqc\");\n",
    "system(\"./phreeqc runphreeqc.txt out.txt PHREEQC.dat\");"
   ]
  },
  {
   "cell_type": "code",
   "execution_count": 3,
   "metadata": {},
   "outputs": [
    {
     "name": "stdout",
     "output_type": "stream",
     "text": [
      "          pH\t          pe\t    m_FeHPO4\t  m_FeH2PO4+\t     m_FeOH+\t   Vivianite\t d_Vivianite\t  Fe(OH)3(a)\td_Fe(OH)3(a)\t\n",
      "          12\t         9.5\t  0.0000e+00\t  0.0000e+00\t  0.0000e+00\t  0.0000e+00\t  0.0000e+00\t  0.0000e+00\t  0.0000e+00\t\n",
      "          12\t         9.5\t  2.2392e-30\t  4.9176e-36\t  4.3432e-26\t  1.0000e+01\t  0.0000e+00\t  1.0000e+01\t  0.0000e+00\t\n"
     ]
    }
   ],
   "source": [
    "system(\"cat selected.out\");"
   ]
  },
  {
   "cell_type": "code",
   "execution_count": 4,
   "metadata": {},
   "outputs": [
    {
     "name": "stdout",
     "output_type": "stream",
     "text": [
      "alpha_diprotic_acid.ipynb\n",
      "alpha_diprotic_acid.m\n",
      "Alpha_weak_acid.ipynb\n",
      "Alpha_weak_Acid.m\n",
      "apt.txt\n",
      "assign5Q3Ushaped.ipynb\n",
      "BLM.ipynb\n",
      "Cd_chlorocomplexation.ipynb\n",
      "CdClspeciationdiagram.m\n",
      "Cd_hydroxycomplexation.ipynb\n",
      "CdOHspeciationdiagram.m\n",
      "CH234W2021_assignment1_generate_answerkey.ipynb\n",
      "conditional_formation_constant.ipynb\n",
      "environment.yml\n",
      "EuPO4s_wastewater_treatment.ipynb\n",
      "Example_tableau_Fe_hydroxide_speciation.ipynb\n",
      "get_equilib_defn.m\n",
      "get_equilib_fixed_pH.m\n",
      "index.ipynb\n",
      "kinetic_in_class_demonstration.ipynb\n",
      "LICENSE\n",
      "nl_massbalancerrnosolid_NR.m\n",
      "open_CO2_speciation_diagram.m\n",
      "Open_CO2_system.ipynb\n",
      "out.txt\n",
      "pH_acetic_acid_versus_ionicstrength.ipynb\n",
      "phreeqc\n",
      "PHREEQC.dat\n",
      "phreeqc.log\n",
      "pHsolve_usingTableau_Alnitrate.m\n",
      "Positive_Real_Roots_Quadratic.ipynb\n",
      "Positive_Real_Roots_Quadratic.m\n",
      "random_number_generator.ipynb\n",
      "README.md\n",
      "runphreeqc.txt\n",
      "selected.out\n",
      "Sodium_carbonate_titration.ipynb\n",
      "sodium_carbonate_titration.m\n",
      "Solve_Al_tableau_fixed_pH.ipynb\n",
      "solve_tableau_Alsystem.ipynb\n",
      "Solve_tableau_template_fixedpH.ipynb\n",
      "Solve_tableau_template.ipynb\n",
      "StrongAcids.ipynb\n",
      "StrongAcids.m\n",
      "strongstrongtitration_andbuffering.m\n",
      "StrongTitration_andBuffering.ipynb\n",
      "test_calc_alpha.ipynb\n",
      "testPHREEQC.ipynb\n",
      "Untitled1.ipynb\n",
      "Untitled2.ipynb\n",
      "Untitled3.ipynb\n",
      "Untitled4.ipynb\n",
      "Untitled5.ipynb\n",
      "Untitled.ipynb\n",
      "Ushaped_solubility_diagram.ipynb\n",
      "Ushapedsolubility.m\n",
      "weakacidbuffering.m\n",
      "WeakTitration_AndBuffering.ipynb\n",
      "ans = 0\n"
     ]
    }
   ],
   "source": [
    "system(\"ls\")"
   ]
  },
  {
   "cell_type": "code",
   "execution_count": null,
   "metadata": {},
   "outputs": [],
   "source": []
  }
 ],
 "metadata": {
  "kernelspec": {
   "display_name": "Octave (xoctave)",
   "language": "Octave",
   "name": "xoctave"
  },
  "language_info": {
   "codemirror_mode": "octave",
   "file_extension": ".m",
   "mimetype": "text/x-octave",
   "name": "Octave",
   "nbconvert_exporter": "",
   "pygments_lexer": "octave",
   "version": "7.3.0"
  }
 },
 "nbformat": 4,
 "nbformat_minor": 4
}
