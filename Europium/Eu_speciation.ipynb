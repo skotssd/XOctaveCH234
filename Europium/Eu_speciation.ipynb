{
 "cells": [
  {
   "cell_type": "markdown",
   "id": "1ca35030-ebeb-456d-971a-4aeb7c32d0c5",
   "metadata": {},
   "source": [
    "# Europium speciation calculation\n",
    "\n",
    "Using PHREEQC and the Marsac et al. (2017) model for HA complexation.  PHREEQC can be a difficult program to interface with so this simple script should simplify that for simulating europium speciation with carbon, phosphorus and hydroxide (pH).  It is assumed that the total phosphorus occurs as phosphate and that inorganic carbon occurs as carbonate species.  Organic carbon is modelled using optimized WHAM parameters as presented in the Marsac et al. paper.\n",
    "\n",
    "User needs to input total europium, pH, total inorganic carbon, total inorganic phosphorus (phosphate) and total organic carbon.\n",
    "\n",
    "The Marsac model is for humic acid (HA) only so the calculation will assume that HA is 50% C by weight.\n",
    "\n",
    "Use exponential notation to enter numbers.  So $3.4 x 10^{-3}$ would be 3.4e-3.  If you want to ignore DOC, phosphorus or inorganic carbon binding enter zero.  Concentrations must be entered in molar units, except DOC is entered in mg C/L.\n",
    "\n",
    "Outputs at the bottom list the solid phases and the summary calculations of total organic bound, total solid bound, total inorganic Eu and the concentration of the free ion (e.g., Eu$^{3+}$.\n",
    "\n",
    "The code blocks are hiddden but to reveal them click on the 3 dots.  These blocks can be modified and run but changes will not be saved permanently.\n",
    "\n",
    "Rémi Marsac, Nidhu L. Banik, Johannes Lützenkirchen, Charlotte Catrouillet, Christian M. Marquardt, Karen H. Johannesson, Modeling metal ion-humic substances complexation in highly saline conditions, Applied Geochemistry, Volume 79, 2017, Pages 52-64,ISSN 0883-2927, https://doi.org/10.1016/j.apgeochem.2017.02.004.\n",
    "(https://www.sciencedirect.com/science/article/pii/S0883292716302311)"
   ]
  },
  {
   "cell_type": "code",
   "execution_count": 11,
   "id": "20dd56f4-fbfe-42fa-a83b-3b72460ed49c",
   "metadata": {
    "tags": []
   },
   "outputs": [],
   "source": [
    "% setup environment\n",
    "% set path to equilibrium solver\n",
    "txt=pwd;\n",
    "n=length(txt);\n",
    "rootpath=txt(1:n-8);\n",
    "PHREEQCpath=[rootpath,'runPHREEQC'];\n",
    "addpath(PHREEQCpath);\n",
    "% clear data and number format\n",
    "clear; format short e\n",
    "\n",
    "% turn off warnings\n",
    "warning off"
   ]
  },
  {
   "cell_type": "code",
   "execution_count": 12,
   "id": "a015fd47-4173-4148-abe4-4e2e7e99a82f",
   "metadata": {
    "tags": []
   },
   "outputs": [
    {
     "name": "stdin",
     "output_type": "stream",
     "text": [
      "total Europium (mol/L)? 1e-6\n",
      "pH? 6\n",
      "total inorganic carbon (mol/L)? 1e-6\n",
      "total phosphorus (mol/L)? 1e-7\n",
      "total dissolved organic carbon (mg C/L)? 2\n"
     ]
    }
   ],
   "source": [
    "##### % inputs\n",
    "\n",
    "EuT=input(\"total Europium (mol/L)?\");\n",
    "pH=input(\"pH?\");\n",
    "CT=input(\"total inorganic carbon (mol/L)?\"); if CT==0; CT=1e-15; end\n",
    "PT=input(\"total phosphorus (mol/L)?\"); if PT==0; PT=1e-15; end\n",
    "DOC=input(\"total dissolved organic carbon (mg C/L)?\"); if DOC==0; DOC=1e-5; end\n",
    "HAconc=(2*DOC)/1000; % convert to g HA/L\n",
    "\n",
    "%EuT=1e-6; pH=7; CT=1e-15; PT=1e-15; DOC=2; HAconc=(2*DOC)/1000; % convert to g HA/L"
   ]
  },
  {
   "cell_type": "code",
   "execution_count": 13,
   "id": "d0ab7ee6-24d8-48f9-846a-54a20fdbe21a",
   "metadata": {
    "jupyter": {
     "source_hidden": true
    },
    "tags": []
   },
   "outputs": [],
   "source": [
    "function [II,GG]=SURFACES\n",
    "\n",
    "II=[...\n",
    "3.70E-04\n",
    "3.70E-04\n",
    "3.70E-04\n",
    "3.70E-04\n",
    "1.85E-04\n",
    "1.85E-04\n",
    "1.85E-04\n",
    "1.85E-04\n",
    "1.91E-04\n",
    "1.91E-04\n",
    "1.91E-04\n",
    "1.91E-04\n",
    "1.91E-04\n",
    "1.91E-04\n",
    "1.91E-05\n",
    "1.91E-05\n",
    "1.91E-05\n",
    "1.91E-05\n",
    "1.91E-05\n",
    "1.91E-05\n",
    "1.91E-06\n",
    "1.91E-06\n",
    "1.91E-06\n",
    "1.91E-06\n",
    "1.91E-06\n",
    "1.91E-06\n",
    "1.24E-05\n",
    "1.24E-05\n",
    "1.24E-05\n",
    "1.24E-05\n",
    "1.24E-05\n",
    "1.24E-05\n",
    "1.24E-05\n",
    "1.24E-05\n",
    "1.24E-06\n",
    "1.24E-06\n",
    "1.24E-06\n",
    "1.24E-06\n",
    "1.24E-06\n",
    "1.24E-06\n",
    "1.24E-06\n",
    "1.24E-06\n",
    "1.24E-07\n",
    "1.24E-07\n",
    "1.24E-07\n",
    "1.24E-07\n",
    "1.24E-07\n",
    "1.24E-07\n",
    "1.24E-07\n",
    "1.24E-07\n",
    "];\n",
    "\n",
    "GG=[...\n",
    "{'Ha_aH'}\n",
    "{'Ha_bH'}\n",
    "{'Ha_cH'}\n",
    "{'Ha_dH'}\n",
    "{'Ha_eH'}\n",
    "{'Ha_fH'}\n",
    "{'Ha_gH'}\n",
    "{'Ha_hH'}\n",
    "{'Ha_abH2'}\n",
    "{'Ha_cdH2'}\n",
    "{'Ha_aeH2'}\n",
    "{'Ha_bfH2'}\n",
    "{'Ha_cgH2'}\n",
    "{'Ha_dhH2'}\n",
    "{'Ha_abxH2'}\n",
    "{'Ha_cdxH2'}\n",
    "{'Ha_aexH2'}\n",
    "{'Ha_bfxH2'}\n",
    "{'Ha_cgxH2'}\n",
    "{'Ha_dhxH2'}\n",
    "{'Ha_abxxH2'}\n",
    "{'Ha_cdxxH2'}\n",
    "{'Ha_aexxH2'}\n",
    "{'Ha_bfxxH2'}\n",
    "{'Ha_cgxxH2'}\n",
    "{'Ha_dhxxH2'}\n",
    "{'Ha_abeH3'}\n",
    "{'Ha_abfH3'}\n",
    "{'Ha_abgH3'}\n",
    "{'Ha_abhH3'}\n",
    "{'Ha_cdeH3'}\n",
    "{'Ha_cdfH3'}\n",
    "{'Ha_cdgH3'}\n",
    "{'Ha_cdhH3'}\n",
    "{'Ha_abeyH3'}\n",
    "{'Ha_abfyH3'}\n",
    "{'Ha_abgyH3'}\n",
    "{'Ha_abhyH3'}\n",
    "{'Ha_cdeyH3'}\n",
    "{'Ha_cdfyH3'}\n",
    "{'Ha_cdgyH3'}\n",
    "{'Ha_cdhyH3'}\n",
    "{'Ha_abeyyH3'}\n",
    "{'Ha_abfyyH3'}\n",
    "{'Ha_abgyyH3'}\n",
    "{'Ha_abhyyH3'}\n",
    "{'Ha_cdeyyH3'}\n",
    "{'Ha_cdfyyH3'}\n",
    "{'Ha_cdgyyH3'}\n",
    "{'Ha_cdhyyH3'}\n",
    "];\n",
    "\n",
    "end"
   ]
  },
  {
   "cell_type": "code",
   "execution_count": 14,
   "id": "32d3ee89-1c6e-4a55-bf08-9914361c402f",
   "metadata": {
    "jupyter": {
     "source_hidden": true
    },
    "tags": []
   },
   "outputs": [],
   "source": [
    "function II=exportspecies(REE)\n",
    "\n",
    "II=[...\n",
    "   {'Ha_aREE+2'}\n",
    "{'Ha_bREE+2'}\n",
    "{'Ha_cREE+2'}\n",
    "{'Ha_dREE+2'}\n",
    "{'Ha_eREE+2'}\n",
    "{'Ha_fREE+2'}\n",
    "{'Ha_gREE+2'}\n",
    "{'Ha_hREE+2'}\n",
    "{'Ha_abREE+'}\n",
    "{'Ha_cdREE+'}\n",
    "{'Ha_aeREE+'}\n",
    "{'Ha_bfREE+'}\n",
    "{'Ha_cgREE+'}\n",
    "{'Ha_dhREE+'}\n",
    "{'Ha_abxREE+'}\n",
    "{'Ha_cdxREE+'}\n",
    "{'Ha_aexREE+'}\n",
    "{'Ha_bfxREE+'}\n",
    "{'Ha_cgxREE+'}\n",
    "{'Ha_dhxREE+'}\n",
    "{'Ha_abxxREE+'}\n",
    "{'Ha_cdxxREE+'}\n",
    "{'Ha_aexxREE+'}\n",
    "{'Ha_bfxxREE+'}\n",
    "{'Ha_cgxxREE+'}\n",
    "{'Ha_dhxxREE+'}\n",
    "{'Ha_abeREE'}\n",
    "{'Ha_abfREE'}\n",
    "{'Ha_abgREE'}\n",
    "{'Ha_abhREE'}\n",
    "{'Ha_cdeREE'}\n",
    "{'Ha_cdfREE'}\n",
    "{'Ha_cdgREE'}\n",
    "{'Ha_cdhREE'}\n",
    "{'Ha_abeyREE'}\n",
    "{'Ha_abfyREE'}\n",
    "{'Ha_abgyREE'}\n",
    "{'Ha_abhyREE'}\n",
    "{'Ha_cdeyREE'}\n",
    "{'Ha_cdfyREE'}\n",
    "{'Ha_cdgyREE'}\n",
    "{'Ha_cdhyREE'}\n",
    "{'Ha_abeyyREE'}\n",
    "{'Ha_abfyyREE'}\n",
    "{'Ha_abgyyREE'}\n",
    "{'Ha_abhyyREE'}\n",
    "{'Ha_cdeyyREE'}\n",
    "{'Ha_cdfyyREE'}\n",
    "{'Ha_cdgyyREE'}\n",
    "{'Ha_cdhyyREE'}\n",
    "];\n",
    "\n",
    "for i=1:length(II)\n",
    "    str=II(i);\n",
    "    newStr=strrep(str,'REE',REE);\n",
    "    II(i)=newStr;\n",
    "end"
   ]
  },
  {
   "cell_type": "code",
   "execution_count": 15,
   "id": "2fddb079-7197-4b8e-95fd-6b363f7d1de8",
   "metadata": {
    "tags": []
   },
   "outputs": [
    {
     "data": {
      "text/html": [
       "<table><tr><th><i>solutionspeciesconcs<i></th><th>1</th></tr><tr><th>1</th><td>4.03023e-10</td></tr><tr><th>2</th><td>3.42082e-10</td></tr><tr><th>3</th><td>1.63562e-10</td></tr><tr><th>4</th><td>3.34981e-11</td></tr><tr><th>5</th><td>5.87284e-11</td></tr><tr><th>6</th><td>5.50075e-12</td></tr><tr><th>7</th><td>5.01845e-13</td></tr><tr><th>8</th><td>4.68364e-14</td></tr><tr><th>9</th><td>2.63635e-07</td></tr><tr><th>10</th><td>1.60858e-08</td></tr><tr><th>11</th><td>1.1477e-07</td></tr><tr><th>12</th><td>1.05875e-08</td></tr><tr><th>13</th><td>4.6797e-10</td></tr><tr><th>14</th><td>8.94921e-12</td></tr><tr><th>15</th><td>7.57719e-08</td></tr><tr><th>16</th><td>6.39757e-08</td></tr><tr><th>17</th><td>7.46122e-08</td></tr><tr><th>18</th><td>5.8904e-08</td></tr><tr><th>19</th><td>9.79242e-09</td></tr><tr><th>20</th><td>2.14077e-10</td></tr><tr><th>21</th><td>7.63681e-09</td></tr><tr><th>22</th><td>7.63076e-09</td></tr><tr><th>23</th><td>7.63628e-09</td></tr><tr><th>24</th><td>7.6274e-09</td></tr><tr><th>25</th><td>7.4218e-09</td></tr><tr><th>26</th><td>3.03355e-09</td></tr><tr><th>27</th><td>4.94365e-08</td></tr><tr><th>28</th><td>4.80805e-08</td></tr><tr><th>29</th><td>3.69436e-08</td></tr><tr><th>30</th><td>1.06277e-08</td></tr><tr><th>31</th><td>4.6279e-08</td></tr><tr><th>32</th><td>2.81008e-08</td></tr><tr><th>33</th><td>5.28508e-09</td></tr><tr><th>34</th><td>5.46002e-10</td></tr><tr><th>35</th><td>4.95811e-09</td></tr><tr><th>36</th><td>4.95808e-09</td></tr><tr><th>37</th><td>4.95766e-09</td></tr><tr><th>38</th><td>4.95323e-09</td></tr><tr><th>39</th><td>4.95802e-09</td></tr><tr><th>40</th><td>4.9571e-09</td></tr><tr><th>41</th><td>4.94696e-09</td></tr><tr><th>42</th><td>4.8411e-09</td></tr><tr><th>43</th><td>4.95811e-10</td></tr><tr><th>44</th><td>4.95811e-10</td></tr><tr><th>45</th><td>4.95811e-10</td></tr><tr><th>46</th><td>4.95811e-10</td></tr><tr><th>47</th><td>4.95811e-10</td></tr><tr><th>48</th><td>4.95811e-10</td></tr><tr><th>49</th><td>4.9581e-10</td></tr><tr><th>50</th><td>4.95807e-10</td></tr><tr><th>51</th><td>1.35491e-12</td></tr></table>"
      ],
      "text/plain": [
       "solutionspeciesconcs =    4.0302e-10\n",
       "   3.4208e-10\n",
       "   1.6356e-10\n",
       "   3.3498e-11\n",
       "   5.8728e-11\n",
       "   5.5008e-12\n",
       "   5.0185e-13\n",
       "   4.6836e-14\n",
       "   2.6363e-07\n",
       "   1.6086e-08\n",
       "   1.1477e-07\n",
       "   1.0588e-08\n",
       "   4.6797e-10\n",
       "   8.9492e-12\n",
       "   7.5772e-08\n",
       "   6.3976e-08\n",
       "   7.4612e-08\n",
       "   5.8904e-08\n",
       "   9.7924e-09\n",
       "   2.1408e-10\n",
       "   7.6368e-09\n",
       "   7.6308e-09\n",
       "   7.6363e-09\n",
       "   7.6274e-09\n",
       "   7.4218e-09\n",
       "   3.0336e-09\n",
       "   4.9436e-08\n",
       "   4.8080e-08\n",
       "   3.6944e-08\n",
       "   1.0628e-08\n",
       "   4.6279e-08\n",
       "   2.8101e-08\n",
       "   5.2851e-09\n",
       "   5.4600e-10\n",
       "   4.9581e-09\n",
       "   4.9581e-09\n",
       "   4.9577e-09\n",
       "   4.9532e-09\n",
       "   4.9580e-09\n",
       "   4.9571e-09\n",
       "   4.9470e-09\n",
       "   4.8411e-09\n",
       "   4.9581e-10\n",
       "   4.9581e-10\n",
       "   4.9581e-10\n",
       "   4.9581e-10\n",
       "   4.9581e-10\n",
       "   4.9581e-10\n",
       "   4.9581e-10\n",
       "   4.9581e-10\n",
       "   1.3549e-12\n"
      ]
     },
     "metadata": {},
     "output_type": "display_data"
    },
    {
     "data": {
      "text/plain": [
       "speciesnames = {\n",
       "  [1,1] = m_Ha_aEu+2\n",
       "  [2,1] = m_Ha_bEu+2\n",
       "  [3,1] = m_Ha_cEu+2\n",
       "  [4,1] = m_Ha_dEu+2\n",
       "  [5,1] = m_Ha_eEu+2\n",
       "  [6,1] = m_Ha_fEu+2\n",
       "  [7,1] = m_Ha_gEu+2\n",
       "  [8,1] = m_Ha_hEu+2\n",
       "  [9,1] = m_Ha_abEu+\n",
       "  [10,1] = m_Ha_cdEu+\n",
       "  [11,1] = m_Ha_aeEu+\n",
       "  [12,1] = m_Ha_bfEu+\n",
       "  [13,1] = m_Ha_cgEu+\n",
       "  [14,1] = m_Ha_dhEu+\n",
       "  [15,1] = m_Ha_abxEu+\n",
       "  [16,1] = m_Ha_cdxEu+\n",
       "  [17,1] = m_Ha_aexEu+\n",
       "  [18,1] = m_Ha_bfxEu+\n",
       "  [19,1] = m_Ha_cgxEu+\n",
       "  [20,1] = m_Ha_dhxEu+\n",
       "  [21,1] = m_Ha_abxxEu+\n",
       "  [22,1] = m_Ha_cdxxEu+\n",
       "  [23,1] = m_Ha_aexxEu+\n",
       "  [24,1] = m_Ha_bfxxEu+\n",
       "  [25,1] = m_Ha_cgxxEu+\n",
       "  [26,1] = m_Ha_dhxxEu+\n",
       "  [27,1] = m_Ha_abeEu\n",
       "  [28,1] = m_Ha_abfEu\n",
       "  [29,1] = m_Ha_abgEu\n",
       "  [30,1] = m_Ha_abhEu\n",
       "  [31,1] = m_Ha_cdeEu\n",
       "  [32,1] = m_Ha_cdfEu\n",
       "  [33,1] = m_Ha_cdgEu\n",
       "  [34,1] = m_Ha_cdhEu\n",
       "  [35,1] = m_Ha_abeyEu\n",
       "  [36,1] = m_Ha_abfyEu\n",
       "  [37,1] = m_Ha_abgyEu\n",
       "  [38,1] = m_Ha_abhyEu\n",
       "  [39,1] = m_Ha_cdeyEu\n",
       "  [40,1] = m_Ha_cdfyEu\n",
       "  [41,1] = m_Ha_cdgyEu\n",
       "  [42,1] = m_Ha_cdhyEu\n",
       "  [43,1] = m_Ha_abeyyEu\n",
       "  [44,1] = m_Ha_abfyyEu\n",
       "  [45,1] = m_Ha_abgyyEu\n",
       "  [46,1] = m_Ha_abhyyEu\n",
       "  [47,1] = m_Ha_cdeyyEu\n",
       "  [48,1] = m_Ha_cdfyyEu\n",
       "  [49,1] = m_Ha_cdgyyEu\n",
       "  [50,1] = m_Ha_cdhyyEu\n",
       "  [51,1] = m_Eu+3\n",
       "}\n"
      ]
     },
     "metadata": {},
     "output_type": "display_data"
    },
    {
     "data": {
      "text/html": [
       "<table><tr><th><i>solidconcs<i></th><th>1</th><th>2</th><th>3</th><th>4</th><th>5</th><th>6</th><th>7</th></tr><tr><th>1</th><td>0</td><td>0</td><td>0</td><td>0</td><td>0</td><td>0</td><td>0</td></tr></table>"
      ],
      "text/plain": [
       "solidconcs =  Columns 1 through 6:\n",
       "\n",
       "            0            0            0            0            0            0\n",
       "\n",
       " Column 7:\n",
       "\n",
       "            0\n"
      ]
     },
     "metadata": {},
     "output_type": "display_data"
    },
    {
     "data": {
      "text/plain": [
       "solidnames = {\n",
       "  [1,1] = Eu(OH)3\n",
       "  [1,2] = Eu2(CO3)3:3H2O\n",
       "  [1,3] = Eu(NO3)3:6H2O\n",
       "  [1,4] = Eu2O3(cubic)\n",
       "  [1,5] = Eu2O3(monoclinic)\n",
       "  [1,6] = EuOHCO3\n",
       "  [1,7] = EuPO4:10H2O\n",
       "}\n"
      ]
     },
     "metadata": {},
     "output_type": "display_data"
    },
    {
     "data": {
      "text/plain": [
       "EuLOHR3 =          0\n"
      ]
     },
     "metadata": {},
     "output_type": "display_data"
    },
    {
     "data": {
      "text/plain": [
       "Eu2LCO3R3C3H2O =          0\n"
      ]
     },
     "metadata": {},
     "output_type": "display_data"
    },
    {
     "data": {
      "text/plain": [
       "EuLNO3R3C6H2O =          0\n"
      ]
     },
     "metadata": {},
     "output_type": "display_data"
    },
    {
     "data": {
      "text/plain": [
       "Eu2O3LcubicR =          0\n"
      ]
     },
     "metadata": {},
     "output_type": "display_data"
    },
    {
     "data": {
      "text/plain": [
       "Eu2O3LmonoclinicR =          0\n"
      ]
     },
     "metadata": {},
     "output_type": "display_data"
    },
    {
     "data": {
      "text/plain": [
       "EuOHCO3 =          0\n"
      ]
     },
     "metadata": {},
     "output_type": "display_data"
    },
    {
     "data": {
      "text/plain": [
       "EuPO4C10H2O =          0\n"
      ]
     },
     "metadata": {},
     "output_type": "display_data"
    },
    {
     "data": {
      "text/plain": [
       "organicbound = 9.9962e-07\n"
      ]
     },
     "metadata": {},
     "output_type": "display_data"
    },
    {
     "data": {
      "text/plain": [
       "solidbound =          0\n"
      ]
     },
     "metadata": {},
     "output_type": "display_data"
    },
    {
     "data": {
      "text/plain": [
       "inorganicbound = 3.8486e-10\n"
      ]
     },
     "metadata": {},
     "output_type": "display_data"
    },
    {
     "data": {
      "text/plain": [
       "Eufree = 1.3549e-12\n"
      ]
     },
     "metadata": {},
     "output_type": "display_data"
    }
   ],
   "source": [
    "NO3T=3*EuT; \n",
    "NaT=2*CT+3*PT; %need counter ions so the initial guess will be better for the fixed pH\n",
    "ionicstrength=(NaT); % just an estimate\n",
    "T=25; pe=20.75-pH; acid=['NaOH'];\n",
    "totalnames=[{'Eu'}; {'Na'}; {'N(+5)'}; {'C(+4)'}; {'P'}]; \n",
    "minerals=[{'Eu(OH)3'}; {'Eu2(CO3)3:3H2O'}; ...\n",
    "    {'Eu(NO3)3:6H2O'}; {'Eu2O3(cubic)'}; {'Eu2O3(monoclinic)'}; ...\n",
    "    {'EuOHCO3'}; {'EuPO4:10H2O'}]; \n",
    "speciesexport=exportspecies(totalnames(1));\n",
    "speciesexport(51,1)={'Eu+3'};\n",
    "[surfaceconcs,SURFACENAMES]=SURFACES; \n",
    "SURFACECONCS=HAconc*surfaceconcs;\n",
    "dummysurfacearea=1e6;\n",
    "database=['Marsac2017EuIIIsolids.dat']; show=0; %0 no output to screen. 1 output to screen\n",
    " totalvector=[EuT; NaT; NO3T; CT; PT];\n",
    "    [solutionspeciesconcs, speciesnames, solidconcs, solidnames]=...\n",
    "    runPHREEQCv2(T,pH,pe,HAconc,totalnames,totalvector,minerals,...\n",
    "    SURFACECONCS,SURFACENAMES,speciesexport,ionicstrength,dummysurfacearea,database,show,acid)\n",
    "    %convert phreeqc variable names for solids to matlab permissible names. set\n",
    "    %solid concs as variable names\n",
    "    for i=1:length(solidconcs)\n",
    "         tst=cell2mat(solidnames(i));\n",
    "         for j=1:length(tst)\n",
    "             if tst(j)=='('; tst(j)='L'; end\n",
    "             if tst(j)==')'; tst(j)='R'; end\n",
    "             if tst(j)==':'; tst(j)='C'; end\n",
    "             if tst(j)=='.'; tst(j)='p'; end\n",
    "         end\n",
    "         txt=[tst,'=solidconcs(i)']; eval(txt); % take out the semicolon after (i) if you want to see the solids listed with concs\n",
    "    end\n",
    "\n",
    "    organicbound=sum(solutionspeciesconcs(1:50));\n",
    "    solidbound=EuLOHR3+2*Eu2LCO3R3C3H2O+EuLNO3R3C6H2O+Eu2O3LcubicR+Eu2O3LmonoclinicR+EuOHCO3+EuPO4C10H2O;\n",
    "    inorganicbound=EuT-organicbound-solidbound;\n",
    "    Eufree=solutionspeciesconcs(51);\n",
    "    \n",
    "    if DOC==1e-15; organicbound=0; end\n",
    "    \n",
    "    % display output\n",
    "    organicbound\n",
    "    solidbound\n",
    "    inorganicbound\n",
    "    Eufree"
   ]
  }
 ],
 "metadata": {
  "kernelspec": {
   "display_name": "Octave (xoctave)",
   "language": "Octave",
   "name": "xoctave"
  },
  "language_info": {
   "codemirror_mode": "octave",
   "file_extension": ".m",
   "mimetype": "text/x-octave",
   "name": "Octave",
   "nbconvert_exporter": "",
   "pygments_lexer": "octave",
   "version": "7.3.0"
  }
 },
 "nbformat": 4,
 "nbformat_minor": 5
}
