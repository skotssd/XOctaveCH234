{
 "cells": [
  {
   "cell_type": "markdown",
   "id": "1ca35030-ebeb-456d-971a-4aeb7c32d0c5",
   "metadata": {},
   "source": [
    "# Speciation calculation for EuT versus pH for fixed DOC values\n",
    "\n",
    "The code blocks are hiddden but to reveal them click on the 3 dots.  These blocks can be modified. changes will be saved on the cloud computer.  But I will need to use git to upload back to the source github.\n"
   ]
  },
  {
   "cell_type": "code",
   "execution_count": 634,
   "id": "20dd56f4-fbfe-42fa-a83b-3b72460ed49c",
   "metadata": {
    "tags": []
   },
   "outputs": [],
   "source": [
    "% setup environment\n",
    "% set path to equilibrium solver\n",
    "txt=pwd;\n",
    "n=length(txt);\n",
    "rootpath=txt(1:n-8);\n",
    "PHREEQCpath=[rootpath,'runPHREEQC'];\n",
    "addpath(PHREEQCpath);\n",
    "% clear data and number format\n",
    "clear; format short e\n",
    "\n",
    "% turn off warnings\n",
    "warning off"
   ]
  },
  {
   "cell_type": "code",
   "execution_count": 635,
   "id": "4ac3cc90-3b73-4770-80f2-dcededb2c288",
   "metadata": {
    "tags": []
   },
   "outputs": [
    {
     "name": "stdin",
     "output_type": "stream",
     "text": [
      "total dissolved organic carbon (mg C/L)? 2\n"
     ]
    }
   ],
   "source": [
    "% inputs\n",
    "logEuT=-9:1:-3; EuT=10.^logEuT; NO3T=3*EuT; \n",
    "pHvector=2:1:12;\n",
    "ClT=0.578e-3; SO4T=0.25e-3; CaT=0.25e-3; MgT=0.25e-3; NaT=(0.078e-3)*2; %just count extra K as Na (only comes into ionic strength calc)\n",
    "CT=1e-13; % set low amount of inorganic carbon (1e-13)  can't set to zero.  set higher for carbonate media (1e-3)\n",
    "DOC=input(\"total dissolved organic carbon (mg C/L)?\"); if DOC==0; DOC=1e-5; end\n",
    "HAconc=(2*DOC)/1000; % convert to g HA/L\n",
    "ionicstrength=0.5*(NaT+4*CaT+4*MgT+4*SO4T+ClT);\n",
    "T=25; pevector=20.75-pHvector; acid=['NaOH'];"
   ]
  },
  {
   "cell_type": "code",
   "execution_count": 636,
   "id": "d0ab7ee6-24d8-48f9-846a-54a20fdbe21a",
   "metadata": {
    "jupyter": {
     "source_hidden": true
    },
    "tags": []
   },
   "outputs": [],
   "source": [
    "function [II,GG]=SURFACES\n",
    "\n",
    "II=[...\n",
    "3.70E-04\n",
    "3.70E-04\n",
    "3.70E-04\n",
    "3.70E-04\n",
    "1.85E-04\n",
    "1.85E-04\n",
    "1.85E-04\n",
    "1.85E-04\n",
    "1.91E-04\n",
    "1.91E-04\n",
    "1.91E-04\n",
    "1.91E-04\n",
    "1.91E-04\n",
    "1.91E-04\n",
    "1.91E-05\n",
    "1.91E-05\n",
    "1.91E-05\n",
    "1.91E-05\n",
    "1.91E-05\n",
    "1.91E-05\n",
    "1.91E-06\n",
    "1.91E-06\n",
    "1.91E-06\n",
    "1.91E-06\n",
    "1.91E-06\n",
    "1.91E-06\n",
    "1.24E-05\n",
    "1.24E-05\n",
    "1.24E-05\n",
    "1.24E-05\n",
    "1.24E-05\n",
    "1.24E-05\n",
    "1.24E-05\n",
    "1.24E-05\n",
    "1.24E-06\n",
    "1.24E-06\n",
    "1.24E-06\n",
    "1.24E-06\n",
    "1.24E-06\n",
    "1.24E-06\n",
    "1.24E-06\n",
    "1.24E-06\n",
    "1.24E-07\n",
    "1.24E-07\n",
    "1.24E-07\n",
    "1.24E-07\n",
    "1.24E-07\n",
    "1.24E-07\n",
    "1.24E-07\n",
    "1.24E-07\n",
    "];\n",
    "\n",
    "GG=[...\n",
    "{'Ha_aH'}\n",
    "{'Ha_bH'}\n",
    "{'Ha_cH'}\n",
    "{'Ha_dH'}\n",
    "{'Ha_eH'}\n",
    "{'Ha_fH'}\n",
    "{'Ha_gH'}\n",
    "{'Ha_hH'}\n",
    "{'Ha_abH2'}\n",
    "{'Ha_cdH2'}\n",
    "{'Ha_aeH2'}\n",
    "{'Ha_bfH2'}\n",
    "{'Ha_cgH2'}\n",
    "{'Ha_dhH2'}\n",
    "{'Ha_abxH2'}\n",
    "{'Ha_cdxH2'}\n",
    "{'Ha_aexH2'}\n",
    "{'Ha_bfxH2'}\n",
    "{'Ha_cgxH2'}\n",
    "{'Ha_dhxH2'}\n",
    "{'Ha_abxxH2'}\n",
    "{'Ha_cdxxH2'}\n",
    "{'Ha_aexxH2'}\n",
    "{'Ha_bfxxH2'}\n",
    "{'Ha_cgxxH2'}\n",
    "{'Ha_dhxxH2'}\n",
    "{'Ha_abeH3'}\n",
    "{'Ha_abfH3'}\n",
    "{'Ha_abgH3'}\n",
    "{'Ha_abhH3'}\n",
    "{'Ha_cdeH3'}\n",
    "{'Ha_cdfH3'}\n",
    "{'Ha_cdgH3'}\n",
    "{'Ha_cdhH3'}\n",
    "{'Ha_abeyH3'}\n",
    "{'Ha_abfyH3'}\n",
    "{'Ha_abgyH3'}\n",
    "{'Ha_abhyH3'}\n",
    "{'Ha_cdeyH3'}\n",
    "{'Ha_cdfyH3'}\n",
    "{'Ha_cdgyH3'}\n",
    "{'Ha_cdhyH3'}\n",
    "{'Ha_abeyyH3'}\n",
    "{'Ha_abfyyH3'}\n",
    "{'Ha_abgyyH3'}\n",
    "{'Ha_abhyyH3'}\n",
    "{'Ha_cdeyyH3'}\n",
    "{'Ha_cdfyyH3'}\n",
    "{'Ha_cdgyyH3'}\n",
    "{'Ha_cdhyyH3'}\n",
    "];\n",
    "\n",
    "end"
   ]
  },
  {
   "cell_type": "code",
   "execution_count": 637,
   "id": "32d3ee89-1c6e-4a55-bf08-9914361c402f",
   "metadata": {
    "jupyter": {
     "source_hidden": true
    },
    "tags": []
   },
   "outputs": [],
   "source": [
    "function II=exportspecies(REE)\n",
    "\n",
    "II=[...\n",
    "   {'Ha_aREE+2'}\n",
    "{'Ha_bREE+2'}\n",
    "{'Ha_cREE+2'}\n",
    "{'Ha_dREE+2'}\n",
    "{'Ha_eREE+2'}\n",
    "{'Ha_fREE+2'}\n",
    "{'Ha_gREE+2'}\n",
    "{'Ha_hREE+2'}\n",
    "{'Ha_abREE+'}\n",
    "{'Ha_cdREE+'}\n",
    "{'Ha_aeREE+'}\n",
    "{'Ha_bfREE+'}\n",
    "{'Ha_cgREE+'}\n",
    "{'Ha_dhREE+'}\n",
    "{'Ha_abxREE+'}\n",
    "{'Ha_cdxREE+'}\n",
    "{'Ha_aexREE+'}\n",
    "{'Ha_bfxREE+'}\n",
    "{'Ha_cgxREE+'}\n",
    "{'Ha_dhxREE+'}\n",
    "{'Ha_abxxREE+'}\n",
    "{'Ha_cdxxREE+'}\n",
    "{'Ha_aexxREE+'}\n",
    "{'Ha_bfxxREE+'}\n",
    "{'Ha_cgxxREE+'}\n",
    "{'Ha_dhxxREE+'}\n",
    "{'Ha_abeREE'}\n",
    "{'Ha_abfREE'}\n",
    "{'Ha_abgREE'}\n",
    "{'Ha_abhREE'}\n",
    "{'Ha_cdeREE'}\n",
    "{'Ha_cdfREE'}\n",
    "{'Ha_cdgREE'}\n",
    "{'Ha_cdhREE'}\n",
    "{'Ha_abeyREE'}\n",
    "{'Ha_abfyREE'}\n",
    "{'Ha_abgyREE'}\n",
    "{'Ha_abhyREE'}\n",
    "{'Ha_cdeyREE'}\n",
    "{'Ha_cdfyREE'}\n",
    "{'Ha_cdgyREE'}\n",
    "{'Ha_cdhyREE'}\n",
    "{'Ha_abeyyREE'}\n",
    "{'Ha_abfyyREE'}\n",
    "{'Ha_abgyyREE'}\n",
    "{'Ha_abhyyREE'}\n",
    "{'Ha_cdeyyREE'}\n",
    "{'Ha_cdfyyREE'}\n",
    "{'Ha_cdgyyREE'}\n",
    "{'Ha_cdhyyREE'}\n",
    "];\n",
    "\n",
    "for i=1:length(II)\n",
    "    str=II(i);\n",
    "    newStr=strrep(str,'REE',REE);\n",
    "    II(i)=newStr;\n",
    "end"
   ]
  },
  {
   "cell_type": "code",
   "execution_count": 638,
   "id": "2fddb079-7197-4b8e-95fd-6b363f7d1de8",
   "metadata": {
    "tags": []
   },
   "outputs": [],
   "source": [
    "% setup equilibrium for PHREEQC inputs\n",
    "totalnames=[{'Eu'}; {'Na'}; {'Cl'}; {'N(+5)'}; {'C(+4)'}; {'S(6)'}; {'Ca'}; {'Mg'}]; \n",
    "minerals=[...\n",
    "    {'Eu(OH)3'}; ...\n",
    "    {'Eu2(CO3)3:3H2O'}; ...\n",
    "    {'Eu(NO3)3:6H2O'}; ...\n",
    "    {'Eu(OH)2.5Cl.5'}; ...\n",
    "    {'Eu(OH)2Cl'}; ...\n",
    "    {'Eu2O3(cubic)'}; ...\n",
    "    {'Eu2O3(monoclinic)'}; ...\n",
    "    {'EuOCl'}; ...\n",
    "    {'EuCl3'}; ...\n",
    "    {'EuOHCO3'}; ...\n",
    "    {'Calcite'}; ...\n",
    "    {'Dolomite(disordered)'}; ...\n",
    "    {'Magnesite'}];% {'EuPO4:10H2O'}]; \n",
    "speciesexport=exportspecies(totalnames(1));\n",
    "DOC>0; speciesexport(51,1)={'Eu+3'};\n",
    "[surfaceconcs,SURFACENAMES]=SURFACES; \n",
    "SURFACECONCS=HAconc*surfaceconcs;\n",
    "dummysurfacearea=1e6;\n",
    "database=['Marsac2017EuIIIsolids.dat']; show=0; %0 no output to screen. 1 output to screen"
   ]
  },
  {
   "cell_type": "code",
   "execution_count": 639,
   "id": "7e41b947-2ab2-4571-847e-13a9e77143b8",
   "metadata": {},
   "outputs": [],
   "source": [
    "% run a loop over pH and over EuT\n",
    "\n",
    "for ii=1:length(EuT)\n",
    "    totalvector=[EuT(ii); NaT; ClT; NO3T(ii); CT; SO4T; CaT; MgT];\n",
    "    for jj=1:length(pHvector)\n",
    "        [solutionspeciesconcs, speciesnames, solidconcs, solidnames]=...\n",
    "        runPHREEQCv2(T,pHvector(jj),pevector(jj),HAconc,totalnames,totalvector,minerals,...\n",
    "        SURFACECONCS,SURFACENAMES,speciesexport,ionicstrength,dummysurfacearea,database,show,acid);\n",
    "        \n",
    "        %convert phreeqc variable names for solids to matlab permissible names. set\n",
    "        %solid concs as variable names\n",
    "        for i=1:length(solidconcs)\n",
    "             tst=cell2mat(solidnames(i));\n",
    "             for j=1:length(tst)\n",
    "                 if tst(j)=='('; tst(j)='L'; end\n",
    "                 if tst(j)==')'; tst(j)='R'; end\n",
    "                 if tst(j)==':'; tst(j)='C'; end\n",
    "                 if tst(j)=='.'; tst(j)='p'; end\n",
    "             end\n",
    "             txt=[tst,'=solidconcs(i);']; eval(txt); % take out the semicolon after (i) if you want to see the solids listed with concs\n",
    "        end\n",
    "\n",
    "        organicbound(ii,jj)=sum(solutionspeciesconcs(1:50)); \n",
    "        if DOC==0; organicbound(ii,jj)=0; end\n",
    "        %EuLOHR3=0;\n",
    "        solidbound(ii,jj)=EuLOHR3+2*Eu2LCO3R3C3H2O+EuLNO3R3C6H2O+Eu2O3LcubicR+Eu2O3LmonoclinicR+EuOHCO3;\n",
    "        inorganicbound(ii,jj)=EuT(ii)-organicbound(ii,jj)-solidbound(ii,jj);\n",
    "    end\n",
    "end"
   ]
  },
  {
   "cell_type": "code",
   "execution_count": 640,
   "id": "70be9215-a4f4-476c-b32b-7ba5365207d6",
   "metadata": {},
   "outputs": [
    {
     "data": {
      "image/png": "[encoded data removed]"
     },
     "metadata": {
      "image/png": {
       "height": 420,
       "width": 560
      }
     },
     "output_type": "display_data"
    }
   ],
   "source": [
    "% now graph it\n",
    " %graphics_toolkit (\"plotly\"); \n",
    "  graphics_toolkit (\"notebook\"); \n",
    " colormap('jet'); shading interp\n",
    " h=surf(pHvector,logEuT,log10(inorganicbound));\n",
    " set(gca,'linewidth',2)\n",
    " view([-26 48])\n",
    " h=xlabel('pH'); set(h,'fontsize',12)\n",
    " h=ylabel('logEuT');  set(h,'fontsize',12)\n",
    " h=zlabel('\\Sigma Eu inorganic'); set(h,'fontsize',12)\n",
    " "
   ]
  },
  {
   "cell_type": "code",
   "execution_count": 641,
   "id": "1b7039b2-ddc6-4fd4-9909-6fab8b8999be",
   "metadata": {},
   "outputs": [
    {
     "data": {
      "image/png": "[encoded data removed]"
     },
     "metadata": {
      "image/png": {
       "height": 420,
       "width": 560
      }
     },
     "output_type": "display_data"
    }
   ],
   "source": [
    "% plot as a contour\n",
    " %graphics_toolkit (\"plotly\"); \n",
    "  graphics_toolkit (\"notebook\"); \n",
    "  colormap('jet'); shading interp\n",
    "  h=surf(pHvector,logEuT,log10(inorganicbound));\n",
    "  set(gca,'linewidth',2)\n",
    "  view([0 90])\n",
    "  h=xlabel('pH'); set(h,'fontsize',12)\n",
    "  h=ylabel('logEuT');  set(h,'fontsize',12)\n",
    "  hold on; [C,h]=contour3(pHvector,logEuT,log10(inorganicbound),10,'k'); set(h,'linewidth',2); \n",
    "  set(gca,'linewidth',2,'fontsize',12)\n",
    "  colorbar   "
   ]
  },
  {
   "cell_type": "code",
   "execution_count": 643,
   "id": "31f05420-bda7-4c12-927f-0b2e5a1fca28",
   "metadata": {},
   "outputs": [
    {
     "data": {
      "application/vnd.plotly.v1+json": {
       "data": [
        {
         "line": {
          "color": "rgb(0, 0, 0)",
          "width": 1.5
         },
         "marker": {
          "color": "rgb(0, 0, 0)",
          "line": {
           "color": "rgb(0, 0, 0)"
          },
          "size": 2.6666666666666665,
          "symbol": "circle"
         },
         "mode": "markers",
         "name": "",
         "scene": "scene",
         "showlegend": false,
         "type": "scatter3d",
         "visibility": true,
         "x": [
          7.15,
          7.42,
          7.67,
          7.79,
          10.92,
          11.03,
          10.9,
          10.97
         ],
         "y": [
          -6.082751077141577,
          -5.783974460416304,
          -5.602986932116319,
          -5.514007664009487,
          -6.030984276682445,
          -5.737695920624677,
          -5.550703020006013,
          -5.397123423909878
         ],
         "z": [
          -6.121042876189142,
          -5.81812873665061,
          -5.839318035720548,
          -5.94950719542802,
          -6.159724976725034,
          -6.000755135756023,
          -5.863259991368237,
          -5.952571014003652
         ]
        },
        {
         "autocolorscale": "false",
         "cauto": "false",
         "cmax": -3.0005426909891106,
         "cmin": -13.202929785236373,
         "colorscale": [
          [
           0,
           "rgb(0,0,143)"
          ],
          [
           0.015873015873015872,
           "rgb(0,0,159)"
          ],
          [
           0.031746031746031744,
           "rgb(0,0,175)"
          ],
          [
           0.047619047619047616,
           "rgb(0,0,191)"
          ],
          [
           0.06349206349206349,
           "rgb(0,0,207)"
          ],
          [
           0.07936507936507936,
           "rgb(0,0,223)"
          ],
          [
           0.09523809523809523,
           "rgb(0,0,239)"
          ],
          [
           0.1111111111111111,
           "rgb(0,0,255)"
          ],
          [
           0.12698412698412698,
           "rgb(0,15,255)"
          ],
          [
           0.14285714285714285,
           "rgb(0,31,255)"
          ],
          [
           0.15873015873015872,
           "rgb(0,47,255)"
          ],
          [
           0.1746031746031746,
           "rgb(0,63,255)"
          ],
          [
           0.19047619047619047,
           "rgb(0,79,255)"
          ],
          [
           0.20634920634920634,
           "rgb(0,95,255)"
          ],
          [
           0.2222222222222222,
           "rgb(0,111,255)"
          ],
          [
           0.23809523809523808,
           "rgb(0,127,255)"
          ],
          [
           0.25396825396825395,
           "rgb(0,143,255)"
          ],
          [
           0.2698412698412698,
           "rgb(0,159,255)"
          ],
          [
           0.2857142857142857,
           "rgb(0,175,255)"
          ],
          [
           0.30158730158730157,
           "rgb(0,191,255)"
          ],
          [
           0.31746031746031744,
           "rgb(0,207,255)"
          ],
          [
           0.3333333333333333,
           "rgb(0,223,255)"
          ],
          [
           0.3492063492063492,
           "rgb(0,239,255)"
          ],
          [
           0.36507936507936506,
           "rgb(0,255,255)"
          ],
          [
           0.38095238095238093,
           "rgb(15,255,239)"
          ],
          [
           0.3968253968253968,
           "rgb(31,255,223)"
          ],
          [
           0.4126984126984127,
           "rgb(47,255,207)"
          ],
          [
           0.42857142857142855,
           "rgb(63,255,191)"
          ],
          [
           0.4444444444444444,
           "rgb(79,255,175)"
          ],
          [
           0.4603174603174603,
           "rgb(95,255,159)"
          ],
          [
           0.47619047619047616,
           "rgb(111,255,143)"
          ],
          [
           0.49206349206349204,
           "rgb(127,255,127)"
          ],
          [
           0.5079365079365079,
           "rgb(143,255,111)"
          ],
          [
           0.5238095238095238,
           "rgb(159,255,95)"
          ],
          [
           0.5396825396825397,
           "rgb(175,255,79)"
          ],
          [
           0.5555555555555556,
           "rgb(191,255,63)"
          ],
          [
           0.5714285714285714,
           "rgb(207,255,47)"
          ],
          [
           0.5873015873015873,
           "rgb(223,255,31)"
          ],
          [
           0.6031746031746031,
           "rgb(239,255,15)"
          ],
          [
           0.6190476190476191,
           "rgb(255,255,0)"
          ],
          [
           0.6349206349206349,
           "rgb(255,239,0)"
          ],
          [
           0.6507936507936508,
           "rgb(255,223,0)"
          ],
          [
           0.6666666666666666,
           "rgb(255,207,0)"
          ],
          [
           0.6825396825396826,
           "rgb(255,191,0)"
          ],
          [
           0.6984126984126984,
           "rgb(255,175,0)"
          ],
          [
           0.7142857142857143,
           "rgb(255,159,0)"
          ],
          [
           0.7301587301587301,
           "rgb(255,143,0)"
          ],
          [
           0.746031746031746,
           "rgb(255,127,0)"
          ],
          [
           0.7619047619047619,
           "rgb(255,111,0)"
          ],
          [
           0.7777777777777778,
           "rgb(255,95,0)"
          ],
          [
           0.7936507936507936,
           "rgb(255,79,0)"
          ],
          [
           0.8095238095238095,
           "rgb(255,63,0)"
          ],
          [
           0.8253968253968254,
           "rgb(255,47,0)"
          ],
          [
           0.8412698412698413,
           "rgb(255,31,0)"
          ],
          [
           0.8571428571428571,
           "rgb(255,15,0)"
          ],
          [
           0.873015873015873,
           "rgb(255,0,0)"
          ],
          [
           0.8888888888888888,
           "rgb(239,0,0)"
          ],
          [
           0.9047619047619048,
           "rgb(223,0,0)"
          ],
          [
           0.9206349206349206,
           "rgb(207,0,0)"
          ],
          [
           0.9365079365079365,
           "rgb(191,0,0)"
          ],
          [
           0.9523809523809523,
           "rgb(175,0,0)"
          ],
          [
           0.9682539682539683,
           "rgb(159,0,0)"
          ],
          [
           0.9841269841269841,
           "rgb(143,0,0)"
          ],
          [
           1,
           "rgb(127,0,0)"
          ]
         ],
         "contours": {
          "x": {
           "highlight": true,
           "highlightcolor": "rgb(0, 0, 0)",
           "highlightwidth": 1,
           "show": false
          },
          "y": {
           "highlight": true,
           "highlightcolor": "rgb(0, 0, 0)",
           "highlightwidth": 1,
           "show": false
          },
          "z": {
           "highlight": true,
           "highlightcolor": "rgb(0, 0, 0)",
           "highlightwidth": 1,
           "show": false
          }
         },
         "name": "",
         "scene": "scene",
         "showlegend": false,
         "showscale": false,
         "surfacecolor": [
          [
           -10.358781137937948,
           -12.917465444383952,
           -13.202929785236373,
           -12.354420203270585,
           -11.41168773474564,
           -10.405905043389682,
           -9.49507828088523,
           -9.075913833470276,
           -9.007781999424358,
           -9.000779235027762,
           -9.000085869420497
          ],
          [
           -8.602788120264437,
           -10.71353713110095,
           -11.972969359558903,
           -11.348889785690275,
           -10.411540094759513,
           -9.405975723042491,
           -8.49515100512979,
           -8.075963301080646,
           -8.007788588279949,
           -8.361198404795857,
           -8.925021543200899
          ],
          [
           -7.162481102579976,
           -8.22240719218791,
           -9.684668066384836,
           -10.153544157373718,
           -9.395872047656086,
           -8.398996237057476,
           -7.491611051969328,
           -7.075577443474052,
           -7.481706806170897,
           -8.361197813878967,
           -8.925020023323878
          ],
          [
           -6.043107203568171,
           -6.303711205378023,
           -7.066799363118974,
           -7.9335310484639665,
           -8.105964650772151,
           -7.323782029669448,
           -6.4621918478150695,
           -6.883891930577513,
           -7.481681498404435,
           -8.361191906289452,
           -8.925004826190674
          ],
          [
           -5.0099807213916945,
           -5.058530017811515,
           -5.128434449870484,
           -5.219504289812455,
           -5.284556363480411,
           -5.3491833716566735,
           -6.307495035577745,
           -6.883711808256679,
           -7.481429344027819,
           -8.361132987240856,
           -8.924853017689978
          ],
          [
           -4.002652208700089,
           -4.008878115000879,
           -4.016391378324306,
           -4.022186312790394,
           -4.0263211528664735,
           -5.339336349382189,
           -6.306030493745643,
           -6.881966533938019,
           -7.478994396792379,
           -8.360558660877931,
           -8.923350951722473
          ],
          [
           -3.0005426909891106,
           -3.0012249059105054,
           -3.00200953333478,
           -3.0025447731726396,
           -3.002881394712167,
           -5.264348090397743,
           -6.294711474894833,
           -6.868124188287653,
           -7.460089882111013,
           -8.355806459417007,
           -8.909700798549467
          ]
         ],
         "type": "surface",
         "visibility": true,
         "x": [
          2,
          3,
          4,
          5,
          6,
          7,
          8,
          9,
          10,
          11,
          12
         ],
         "y": [
          -9,
          -8,
          -7,
          -6,
          -5,
          -4,
          -3
         ],
         "z": [
          [
           -10.358781137937948,
           -12.917465444383952,
           -13.202929785236373,
           -12.354420203270585,
           -11.41168773474564,
           -10.405905043389682,
           -9.49507828088523,
           -9.075913833470276,
           -9.007781999424358,
           -9.000779235027762,
           -9.000085869420497
          ],
          [
           -8.602788120264437,
           -10.71353713110095,
           -11.972969359558903,
           -11.348889785690275,
           -10.411540094759513,
           -9.405975723042491,
           -8.49515100512979,
           -8.075963301080646,
           -8.007788588279949,
           -8.361198404795857,
           -8.925021543200899
          ],
          [
           -7.162481102579976,
           -8.22240719218791,
           -9.684668066384836,
           -10.153544157373718,
           -9.395872047656086,
           -8.398996237057476,
           -7.491611051969328,
           -7.075577443474052,
           -7.481706806170897,
           -8.361197813878967,
           -8.925020023323878
          ],
          [
           -6.043107203568171,
           -6.303711205378023,
           -7.066799363118974,
           -7.9335310484639665,
           -8.105964650772151,
           -7.323782029669448,
           -6.4621918478150695,
           -6.883891930577513,
           -7.481681498404435,
           -8.361191906289452,
           -8.925004826190674
          ],
          [
           -5.0099807213916945,
           -5.058530017811515,
           -5.128434449870484,
           -5.219504289812455,
           -5.284556363480411,
           -5.3491833716566735,
           -6.307495035577745,
           -6.883711808256679,
           -7.481429344027819,
           -8.361132987240856,
           -8.924853017689978
          ],
          [
           -4.002652208700089,
           -4.008878115000879,
           -4.016391378324306,
           -4.022186312790394,
           -4.0263211528664735,
           -5.339336349382189,
           -6.306030493745643,
           -6.881966533938019,
           -7.478994396792379,
           -8.360558660877931,
           -8.923350951722473
          ],
          [
           -3.0005426909891106,
           -3.0012249059105054,
           -3.00200953333478,
           -3.0025447731726396,
           -3.002881394712167,
           -5.264348090397743,
           -6.294711474894833,
           -6.868124188287653,
           -7.460089882111013,
           -8.355806459417007,
           -8.909700798549467
          ]
         ]
        },
        {
         "line": {
          "color": "rgb(0, 0, 0)",
          "width": 1.5
         },
         "marker": {
          "color": "rgb(0, 0, 0)",
          "line": {
           "color": "rgb(0, 0, 0)"
          },
          "size": 2.6666666666666665,
          "symbol": "circle"
         },
         "mode": "markers",
         "name": "",
         "scene": "scene",
         "showlegend": false,
         "type": "scatter3d",
         "visibility": true,
         "x": [
          7.15,
          7.42,
          7.67,
          7.79,
          10.92,
          11.03,
          10.9,
          10.97
         ],
         "y": [
          -6.082751077141577,
          -5.783974460416304,
          -5.602986932116319,
          -5.514007664009487,
          -6.030984276682445,
          -5.737695920624677,
          -5.550703020006013,
          -5.397123423909878
         ],
         "z": [
          -6.121042876189142,
          -5.81812873665061,
          -5.839318035720548,
          -5.94950719542802,
          -6.159724976725034,
          -6.000755135756023,
          -5.863259991368237,
          -5.952571014003652
         ]
        }
       ],
       "layout": {
        "height": 420,
        "hovermode": "closest",
        "margin": {
         "b": 0,
         "l": 0,
         "r": 0,
         "t": 0
        },
        "plot_bgcolor": "rgba(0, 0, 0, 0)",
        "scene": {
         "aspectmode": "auto",
         "aspectratio": {
          "x": 1.1777388032658187,
          "y": 0.7066432819594913,
          "z": 1.2015747166833406
         },
         "camera": {
          "center": {
           "x": 0,
           "y": 0,
           "z": 0
          },
          "eye": {
           "x": 0.9283719093419681,
           "y": 1.9266786461703058,
           "z": 0.3369495397475803
          },
          "projection": {
           "type": "orthographic"
          },
          "up": {
           "x": 0,
           "y": 0,
           "z": 1
          }
         },
         "domain": {
          "x": [
           0.13,
           0.905
          ],
          "y": [
           0.11,
           0.9249999999999999
          ]
         },
         "xaxis": {
          "autorange": false,
          "exponentformat": "none",
          "gridcolor": "",
          "gridwidth": 3,
          "linecolor": "rgb(38,38,38)",
          "linewidth": 3,
          "mirror": false,
          "range": [
           12,
           2
          ],
          "showgrid": false,
          "showline": true,
          "side": "bottom",
          "spikedash": "solid",
          "spikemode": "across",
          "spikesides": false,
          "spikethickness": 1,
          "tickangle": 0,
          "tickcolor": "rgb(38,38,38)",
          "tickfont": {
           "color": "rgb(38,38,38)",
           "size": 10
          },
          "ticklen": 3,
          "ticks": "outside",
          "ticktext": [
           "2",
           "4",
           "6",
           "8",
           "10",
           "12"
          ],
          "tickvals": [
           2,
           4,
           6,
           8,
           10,
           12
          ],
          "title": {
           "font": {
            "color": "rgb(38,38,38)",
            "size": 12
           },
           "text": "pH"
          },
          "type": "linear",
          "visible": true,
          "zeroline": false
         },
         "yaxis": {
          "autorange": false,
          "exponentformat": "none",
          "gridcolor": "",
          "gridwidth": 3,
          "linecolor": "rgb(38,38,38)",
          "linewidth": 3,
          "mirror": false,
          "range": [
           -3,
           -9
          ],
          "showgrid": false,
          "showline": true,
          "side": "left",
          "spikedash": "solid",
          "spikemode": "across",
          "spikesides": false,
          "spikethickness": 1,
          "tickangle": 0,
          "tickcolor": "rgb(38,38,38)",
          "tickfont": {
           "color": "rgb(38,38,38)",
           "size": 10
          },
          "ticklen": 3,
          "ticks": "outside",
          "ticktext": [
           "-9",
           "-8",
           "-7",
           "-6",
           "-5",
           "-4",
           "-3"
          ],
          "tickvals": [
           -9,
           -8,
           -7,
           -6,
           -5,
           -4,
           -3
          ],
          "title": {
           "font": {
            "color": "rgb(38,38,38)",
            "size": 12
           },
           "text": "logEuT"
          },
          "type": "linear",
          "visible": true,
          "zeroline": false
         },
         "zaxis": {
          "autorange": false,
          "exponentformat": "none",
          "gridcolor": "",
          "gridwidth": 3,
          "linecolor": "rgb(38,38,38)",
          "linewidth": 3,
          "mirror": false,
          "range": [
           -14,
           -2
          ],
          "showgrid": false,
          "showline": true,
          "side": "none",
          "spikedash": "solid",
          "spikemode": "across",
          "spikesides": false,
          "spikethickness": 1,
          "tickangle": 0,
          "tickcolor": "rgb(38,38,38)",
          "tickfont": {
           "color": "rgb(38,38,38)",
           "size": 10
          },
          "ticklen": 3,
          "ticks": "outside",
          "ticktext": [
           "-14",
           "-12",
           "-10",
           "-8",
           "-6",
           "-4",
           "-2"
          ],
          "tickvals": [
           -14,
           -12,
           -10,
           -8,
           -6,
           -4,
           -2
          ],
          "title": {
           "font": {
            "color": "rgb(38,38,38)",
            "size": 12
           },
           "text": "logEuT"
          },
          "type": "linear",
          "visible": true,
          "zeroline": false
         }
        },
        "showlegend": false,
        "width": 560
       }
      }
     },
     "metadata": {},
     "output_type": "display_data"
    }
   ],
   "source": [
    "% input data to plot on the same graph\n",
    "\n",
    "EuT=[0.1256 0.2499 0.3791 0.4653 0.1415 0.2780 0.4276 0.6090]; % mg Eu/L\n",
    "pH=[7.15 7.42 7.67 7.79 10.92 11.03 10.90 10.97];\n",
    "Eudiss=[0.115 0.231 0.22 0.1707 0.1052 0.1517 0.2082 0.1695]; %mg Eu/L\n",
    "EuMM=151.964; EuT=(EuT*1e-3)./EuMM; Eudiss=(Eudiss*1e-3)./EuMM;\n",
    "\n",
    "  %graphics_toolkit (\"plotly\"); \n",
    "  graphics_toolkit (\"notebook\");\n",
    "  h2=plot3(pH,log10(EuT),log10(Eudiss),'ko','markersize',8,'markerfacecolor','k');\n",
    "  hold on\n",
    "  colormap('jet'); %shading interp\n",
    "  h=surf(pHvector,logEuT,log10(inorganicbound));\n",
    "  set(h,'facealpha',0.2)\n",
    "  set(gca,'linewidth',2)\n",
    "  view([-26 48])\n",
    "  h=xlabel('pH'); set(h,'fontsize',12)\n",
    "  h=ylabel('logEuT');  set(h,'fontsize',12)\n",
    "  h=zlabel('\\Sigma Eu inorganic'); set(h,'fontsize',12)\n",
    "  hold on\n",
    "  plot3(pH,log10(EuT),log10(Eudiss),'ko','markersize',8,'markerfacecolor','k')"
   ]
  },
  {
   "cell_type": "code",
   "execution_count": null,
   "id": "55c12ab1-c1d9-4a6b-becc-e355b11ae613",
   "metadata": {},
   "outputs": [],
   "source": []
  }
 ],
 "metadata": {
  "kernelspec": {
   "display_name": "Octave (xoctave)",
   "language": "Octave",
   "name": "xoctave"
  },
  "language_info": {
   "codemirror_mode": "octave",
   "file_extension": ".m",
   "mimetype": "text/x-octave",
   "name": "Octave",
   "nbconvert_exporter": "",
   "pygments_lexer": "octave",
   "version": "7.3.0"
  }
 },
 "nbformat": 4,
 "nbformat_minor": 5
}
