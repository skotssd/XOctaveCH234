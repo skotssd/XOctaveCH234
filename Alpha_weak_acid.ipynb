{
 "cells": [
  {
   "cell_type": "code",
   "execution_count": 1,
   "metadata": {},
   "outputs": [],
   "source": [
    "% some housekeeping stuff\n",
    "%register_graphics_toolkit (\"gnuplot\");\n",
    "%available_graphics_toolkits ();\n",
    "graphics_toolkit (\"plotly\")\n",
    "clear\n",
    "%warning off\n",
    "format short e\n",
    "% end of housekeeping"
   ]
  },
  {
   "cell_type": "markdown",
   "metadata": {},
   "source": [
    "# Weak acid speciation versus pH\n",
    "\n",
    "In class we derived the equations for $\\alpha$ versus pH\n",
    "\n",
    "$\\alpha_{HA}=\\dfrac{[\\mathrm{H}^+]}{[\\mathrm{H}^+]+K_a}$\n",
    "\n",
    "$\\alpha_{A}=\\dfrac{K_a}{[\\mathrm{H}^+]+K_a}$"
   ]
  },
  {
   "cell_type": "code",
   "execution_count": 3,
   "metadata": {},
   "outputs": [
    {
     "name": "stdin",
     "output_type": "stream",
     "text": [
      "Enter pKa1 value:  6\n"
     ]
    },
    {
     "data": {
      "application/vnd.plotly.v1+json": {
       "data": [
        {
         "line": {
          "color": "rgb(0,113,188)",
          "dash": "solid",
          "width": 2
         },
         "marker": {
          "color": "rgb(0,113,188)",
          "line": {
           "color": "rgb(0,113,188)"
          },
          "size": 6,
          "symbol": "none"
         },
         "mode": "lines",
         "name": "HA",
         "showlegend": true,
         "type": "scatter",
         "visibility": true,
         "x": [
          2,
          2.2,
          2.4,
          2.6,
          2.8,
          3,
          3.2,
          3.4000000000000004,
          3.6,
          3.8,
          4,
          4.2,
          4.4,
          4.6,
          4.800000000000001,
          5,
          5.2,
          5.4,
          5.6,
          5.800000000000001,
          6,
          6.2,
          6.4,
          6.6000000000000005,
          6.800000000000001,
          7,
          7.2,
          7.4,
          7.6000000000000005,
          7.800000000000001,
          8,
          8.2,
          8.4,
          8.600000000000001,
          8.8,
          9,
          9.2,
          9.4,
          9.600000000000001,
          9.8,
          10,
          10.200000000000001,
          10.4,
          10.6,
          10.8,
          11,
          11.200000000000001,
          11.4,
          11.600000000000001,
          11.8,
          12
         ],
         "xaxis": "x",
         "y": [
          0.9999000099990002,
          0.9998415357956377,
          0.9997488744367385,
          0.9996020512556951,
          0.9993694405116602,
          0.999000999000999,
          0.9984176147191982,
          0.9974944073327142,
          0.9960347143808477,
          0.9937299876585661,
          0.9900990099009901,
          0.9843983377581704,
          0.9754966324496641,
          0.9617134961177453,
          0.9406490568972323,
          0.9090909090909091,
          0.86319311139679,
          0.7992399910868981,
          0.7152527510491987,
          0.6131368201531427,
          0.5,
          0.38686317984685686,
          0.2847472489508013,
          0.20076000891310153,
          0.13680688860320983,
          0.0909090909090909,
          0.059350943102767575,
          0.038286503882254706,
          0.024503367550335962,
          0.015601662241829578,
          0.009900990099009903,
          0.006270012341433852,
          0.003965285619152197,
          0.002505592667285727,
          0.0015823852808017176,
          0.000999000999000999,
          0.0006305594883398945,
          0.00039794874430487643,
          0.000251125563261461,
          0.00015846420436223683,
          9.999000099990002e-05,
          6.309175362748643e-05,
          3.980913222525046e-05,
          2.511823337359988e-05,
          1.5848680739948967e-05,
          9.999900000999989e-06,
          6.309533634336049e-06,
          3.9810558566661404e-06,
          2.511880121951976e-06,
          1.5848906805786606e-06,
          9.99999000001e-07
         ],
         "yaxis": "y"
        },
        {
         "line": {
          "color": "rgb(216,82,24)",
          "dash": "solid",
          "width": 2
         },
         "marker": {
          "color": "rgb(216,82,24)",
          "line": {
           "color": "rgb(216,82,24)"
          },
          "size": 6,
          "symbol": "none"
         },
         "mode": "lines",
         "name": "A^-",
         "showlegend": true,
         "type": "scatter",
         "visibility": true,
         "x": [
          2,
          2.2,
          2.4,
          2.6,
          2.8,
          3,
          3.2,
          3.4000000000000004,
          3.6,
          3.8,
          4,
          4.2,
          4.4,
          4.6,
          4.800000000000001,
          5,
          5.2,
          5.4,
          5.6,
          5.800000000000001,
          6,
          6.2,
          6.4,
          6.6000000000000005,
          6.800000000000001,
          7,
          7.2,
          7.4,
          7.6000000000000005,
          7.800000000000001,
          8,
          8.2,
          8.4,
          8.600000000000001,
          8.8,
          9,
          9.2,
          9.4,
          9.600000000000001,
          9.8,
          10,
          10.200000000000001,
          10.4,
          10.6,
          10.8,
          11,
          11.200000000000001,
          11.4,
          11.600000000000001,
          11.8,
          12
         ],
         "xaxis": "x",
         "y": [
          9.999000099990002e-05,
          0.00015846420436223715,
          0.00025112556326146177,
          0.0003979487443048768,
          0.0006305594883398933,
          0.000999000999000999,
          0.0015823852808017208,
          0.002505592667285737,
          0.0039652856191522015,
          0.006270012341433838,
          0.009900990099009901,
          0.015601662241829609,
          0.024503367550336008,
          0.0382865038822547,
          0.059350943102767686,
          0.0909090909090909,
          0.13680688860321005,
          0.2007600089131019,
          0.2847472489508012,
          0.38686317984685736,
          0.5,
          0.6131368201531431,
          0.7152527510491987,
          0.7992399910868984,
          0.8631931113967902,
          0.909090909090909,
          0.9406490568972324,
          0.9617134961177454,
          0.975496632449664,
          0.9843983377581704,
          0.9900990099009902,
          0.9937299876585661,
          0.9960347143808478,
          0.9974944073327142,
          0.9984176147191982,
          0.9990009990009989,
          0.99936944051166,
          0.9996020512556951,
          0.9997488744367384,
          0.9998415357956377,
          0.9999000099990001,
          0.9999369082463726,
          0.9999601908677748,
          0.9999748817666265,
          0.9999841513192601,
          0.9999900000999989,
          0.9999936904663657,
          0.9999960189441434,
          0.999997488119878,
          0.9999984151093194,
          0.999999000001
         ],
         "yaxis": "y"
        },
        {
         "hoverinfo": "none",
         "line": {
          "color": "rgb(0,113,188)",
          "dash": "solid",
          "width": 2
         },
         "marker": {
          "color": "rgb(0,113,188)",
          "line": {
           "color": "rgb(0,113,188)"
          },
          "size": 6,
          "symbol": "none"
         },
         "mode": "lines",
         "name": "",
         "showlegend": false,
         "type": "scatter",
         "visibility": true,
         "x": [
          3,
          18
         ],
         "xaxis": "x2",
         "y": [
          6.779999999999999,
          6.779999999999999
         ],
         "yaxis": "y2"
        },
        {
         "hoverinfo": "none",
         "line": {
          "color": "rgb(216,82,24)",
          "dash": "solid",
          "width": 2
         },
         "marker": {
          "color": "rgb(216,82,24)",
          "line": {
           "color": "rgb(216,82,24)"
          },
          "size": 6,
          "symbol": "none"
         },
         "mode": "lines",
         "name": "",
         "showlegend": false,
         "type": "scatter",
         "visibility": true,
         "x": [
          3,
          18
         ],
         "xaxis": "x2",
         "y": [
          17.34,
          17.34
         ],
         "yaxis": "y2"
        }
       ],
       "layout": {
        "annotations": [
         {
          "font": {
           "color": "rgb(0, 0, 0)",
           "size": 10.8
          },
          "showarrow": false,
          "text": "HA",
          "x": 21,
          "xanchor": "left",
          "xref": "x2",
          "y": 6.779999999999999,
          "yanchor": "middle",
          "yref": "y2"
         },
         {
          "font": {
           "color": "rgb(0, 0, 0)",
           "size": 10.8
          },
          "showarrow": false,
          "text": "A<sup>-</sup>",
          "x": 21,
          "xanchor": "left",
          "xref": "x2",
          "y": 17.34,
          "yanchor": "middle",
          "yref": "y2"
         }
        ],
        "height": 420,
        "hovermode": "closest",
        "margin": {
         "b": 0,
         "l": 0,
         "r": 0,
         "t": 0
        },
        "plot_bgcolor": "rgba(0, 0, 0, 0)",
        "showlegend": false,
        "width": 560,
        "xaxis": {
         "anchor": "y",
         "autorange": false,
         "domain": [
          0.13,
          0.9050000000000001
         ],
         "exponentformat": "none",
         "gridcolor": "rgba(38,38,38,0.15)",
         "gridwidth": 2,
         "linecolor": "rgb(38,38,38)",
         "linewidth": 2,
         "mirror": "ticks",
         "range": [
          2,
          12
         ],
         "showgrid": false,
         "showline": true,
         "side": "bottom",
         "spikedash": "solid",
         "spikemode": "across",
         "spikesides": false,
         "spikethickness": 1,
         "tickangle": 0,
         "tickcolor": "rgb(38,38,38)",
         "tickfont": {
          "color": "rgb(38,38,38)",
          "size": 12
         },
         "ticklen": 3,
         "ticks": "inside",
         "ticktext": [
          "2",
          "4",
          "6",
          "8",
          "10",
          "12"
         ],
         "tickvals": [
          2,
          4,
          6,
          8,
          10,
          12
         ],
         "title": {
          "font": {
           "color": "rgb(38,38,38)",
           "size": 13.200000000000001
          },
          "text": "pH"
         },
         "type": "linear",
         "visible": true,
         "zeroline": false
        },
        "xaxis2": {
         "anchor": "y2",
         "autorange": false,
         "domain": [
          0.803934342418452,
          0.8901440113408333
         ],
         "exponentformat": "none",
         "fixedrange": true,
         "gridcolor": "rgba(38,38,38,0.15)",
         "gridwidth": 1,
         "linecolor": "rgb(38,38,38)",
         "linewidth": 1,
         "mirror": true,
         "range": [
          0,
          34.81814811531362
         ],
         "showgrid": false,
         "showline": true,
         "showspikes": false,
         "side": "bottom",
         "spikedash": "solid",
         "spikemode": "across",
         "spikesides": false,
         "spikethickness": 1,
         "tickangle": 0,
         "tickcolor": "rgb(38,38,38)",
         "tickfont": {
          "color": "rgb(38,38,38)",
          "size": 10.8
         },
         "ticklen": 3,
         "ticks": "",
         "ticktext": [],
         "tickvals": [],
         "title": {
          "font": {
           "color": "rgb(0, 0, 0)",
           "size": 11.880000000000003
          },
          "text": ""
         },
         "type": "linear",
         "visible": true,
         "zeroline": false
        },
        "yaxis": {
         "anchor": "x",
         "autorange": false,
         "domain": [
          0.11,
          0.9249999999999999
         ],
         "exponentformat": "none",
         "gridcolor": "rgba(38,38,38,0.15)",
         "gridwidth": 2,
         "linecolor": "rgb(38,38,38)",
         "linewidth": 2,
         "mirror": "ticks",
         "range": [
          0,
          1
         ],
         "showgrid": false,
         "showline": true,
         "side": "left",
         "spikedash": "solid",
         "spikemode": "across",
         "spikesides": false,
         "spikethickness": 1,
         "tickangle": 0,
         "tickcolor": "rgb(38,38,38)",
         "tickfont": {
          "color": "rgb(38,38,38)",
          "size": 12
         },
         "ticklen": 3,
         "ticks": "inside",
         "ticktext": [
          "0",
          "0.2",
          "0.4",
          "0.6",
          "0.8",
          "1"
         ],
         "tickvals": [
          0,
          0.2,
          0.4,
          0.6000000000000001,
          0.8,
          1
         ],
         "title": {
          "font": {
           "color": "rgb(38,38,38)",
           "size": 13.200000000000001
          },
          "text": "alpha"
         },
         "type": "linear",
         "visible": true,
         "zeroline": false
        },
        "yaxis2": {
         "anchor": "x2",
         "autorange": false,
         "domain": [
          0.825563915907977,
          0.9051920151211108
         ],
         "exponentformat": "none",
         "fixedrange": true,
         "gridcolor": "rgba(38,38,38,0.15)",
         "gridwidth": 1,
         "linecolor": "rgb(38,38,38)",
         "linewidth": 1,
         "mirror": true,
         "range": [
          24.119999999999997,
          0
         ],
         "showgrid": false,
         "showline": true,
         "showspikes": false,
         "side": "left",
         "spikedash": "solid",
         "spikemode": "across",
         "spikesides": false,
         "spikethickness": 1,
         "tickangle": 0,
         "tickcolor": "rgb(38,38,38)",
         "tickfont": {
          "color": "rgb(38,38,38)",
          "size": 10.8
         },
         "ticklen": 3,
         "ticks": "",
         "ticktext": [],
         "tickvals": [],
         "title": {
          "font": {
           "color": "rgb(0, 0, 0)",
           "size": 11.880000000000003
          },
          "text": ""
         },
         "type": "linear",
         "visible": true,
         "zeroline": false
        }
       }
      },
      "image/png": "[encoded data removed]"
     },
     "metadata": {},
     "output_type": "display_data"
    }
   ],
   "source": [
    "pKa = input(\"Enter pKa1 value: \"); Ka=10^-pKa;\n",
    "pH=2:0.2:12; H=10.^-pH;\n",
    "alphaHL=H./(Ka+H);\n",
    "alphaL=Ka./(Ka+H);\n",
    "plot(pH,alphaHL,'linewidth',2,pH,alphaL,\"linewidth\", 2)\n",
    "set(gca,'linewidth',2,'fontsize',12)\n",
    "xlabel('pH')\n",
    "ylabel('alpha')\n",
    "legend('HA','A^-')"
   ]
  },
  {
   "cell_type": "code",
   "execution_count": null,
   "metadata": {},
   "outputs": [],
   "source": []
  }
 ],
 "metadata": {
  "kernelspec": {
   "display_name": "Octave (xoctave)",
   "language": "Octave",
   "name": "xoctave"
  },
  "language_info": {
   "codemirror_mode": "octave",
   "file_extension": ".m",
   "mimetype": "text/x-octave",
   "name": "Octave",
   "nbconvert_exporter": "",
   "pygments_lexer": "octave",
   "version": "7.3.0"
  }
 },
 "nbformat": 4,
 "nbformat_minor": 4
}
